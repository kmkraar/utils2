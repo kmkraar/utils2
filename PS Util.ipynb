{
  "nbformat": 4,
  "nbformat_minor": 0,
  "metadata": {
    "colab": {
      "name": "Copy of CNS lab.ipynb",
      "provenance": [],
      "collapsed_sections": []
    },
    "kernelspec": {
      "name": "python3",
      "display_name": "Python 3"
    },
    "language_info": {
      "name": "python"
    }
  },
  "cells": [
    {
      "cell_type": "markdown",
      "metadata": {
        "id": "vtN0ucw6BD4o"
      },
      "source": [
        "### Brute force and Known plain text on Affine cipher"
      ]
    },
    {
      "cell_type": "code",
      "metadata": {
        "colab": {
          "base_uri": "https://localhost:8080/"
        },
        "id": "TmKsBVzOo-Np",
        "outputId": "c619611d-2b2f-413f-ada3-12efd4e8bbed"
      },
      "source": [
        "#Brute Force Attack on Affine cipher\n",
        "cipher=list(input())\n",
        "a=[1,3,5,7,9,11,15,17,19,21,23,25]\n",
        "def decrept(i,j):\n",
        "    plain=[]\n",
        "    for c in cipher:\n",
        "        q=ord(c)-ord('a')-j\n",
        "        q=(q*i)%26+ord('a')\n",
        "        plain.append(chr(q))\n",
        "    print(\"for a inverse: \",i,\" b: \",j,end=\" \")\n",
        "    print(\"\".join(map(str,plain)))\n",
        "        \n",
        "for i in a:\n",
        "    for j in range(26):\n",
        "        decrept(i,j)\n",
        "\n",
        "\n"
      ],
      "execution_count": null,
      "outputs": [
        {
          "output_type": "stream",
          "text": [
            "enbhw\n",
            "for a inverse:  1  b:  0 enbhw\n",
            "for a inverse:  1  b:  1 dmagv\n",
            "for a inverse:  1  b:  2 clzfu\n",
            "for a inverse:  1  b:  3 bkyet\n",
            "for a inverse:  1  b:  4 ajxds\n",
            "for a inverse:  1  b:  5 ziwcr\n",
            "for a inverse:  1  b:  6 yhvbq\n",
            "for a inverse:  1  b:  7 xguap\n",
            "for a inverse:  1  b:  8 wftzo\n",
            "for a inverse:  1  b:  9 vesyn\n",
            "for a inverse:  1  b:  10 udrxm\n",
            "for a inverse:  1  b:  11 tcqwl\n",
            "for a inverse:  1  b:  12 sbpvk\n",
            "for a inverse:  1  b:  13 raouj\n",
            "for a inverse:  1  b:  14 qznti\n",
            "for a inverse:  1  b:  15 pymsh\n",
            "for a inverse:  1  b:  16 oxlrg\n",
            "for a inverse:  1  b:  17 nwkqf\n",
            "for a inverse:  1  b:  18 mvjpe\n",
            "for a inverse:  1  b:  19 luiod\n",
            "for a inverse:  1  b:  20 kthnc\n",
            "for a inverse:  1  b:  21 jsgmb\n",
            "for a inverse:  1  b:  22 irfla\n",
            "for a inverse:  1  b:  23 hqekz\n",
            "for a inverse:  1  b:  24 gpdjy\n",
            "for a inverse:  1  b:  25 focix\n",
            "for a inverse:  3  b:  0 mndvo\n",
            "for a inverse:  3  b:  1 jkasl\n",
            "for a inverse:  3  b:  2 ghxpi\n",
            "for a inverse:  3  b:  3 deumf\n",
            "for a inverse:  3  b:  4 abrjc\n",
            "for a inverse:  3  b:  5 xyogz\n",
            "for a inverse:  3  b:  6 uvldw\n",
            "for a inverse:  3  b:  7 rsiat\n",
            "for a inverse:  3  b:  8 opfxq\n",
            "for a inverse:  3  b:  9 lmcun\n",
            "for a inverse:  3  b:  10 ijzrk\n",
            "for a inverse:  3  b:  11 fgwoh\n",
            "for a inverse:  3  b:  12 cdtle\n",
            "for a inverse:  3  b:  13 zaqib\n",
            "for a inverse:  3  b:  14 wxnfy\n",
            "for a inverse:  3  b:  15 tukcv\n",
            "for a inverse:  3  b:  16 qrhzs\n",
            "for a inverse:  3  b:  17 noewp\n",
            "for a inverse:  3  b:  18 klbtm\n",
            "for a inverse:  3  b:  19 hiyqj\n",
            "for a inverse:  3  b:  20 efvng\n",
            "for a inverse:  3  b:  21 bcskd\n",
            "for a inverse:  3  b:  22 yzpha\n",
            "for a inverse:  3  b:  23 vwmex\n",
            "for a inverse:  3  b:  24 stjbu\n",
            "for a inverse:  3  b:  25 pqgyr\n",
            "for a inverse:  5  b:  0 unfjg\n",
            "for a inverse:  5  b:  1 piaeb\n",
            "for a inverse:  5  b:  2 kdvzw\n",
            "for a inverse:  5  b:  3 fyqur\n",
            "for a inverse:  5  b:  4 atlpm\n",
            "for a inverse:  5  b:  5 vogkh\n",
            "for a inverse:  5  b:  6 qjbfc\n",
            "for a inverse:  5  b:  7 lewax\n",
            "for a inverse:  5  b:  8 gzrvs\n",
            "for a inverse:  5  b:  9 bumqn\n",
            "for a inverse:  5  b:  10 wphli\n",
            "for a inverse:  5  b:  11 rkcgd\n",
            "for a inverse:  5  b:  12 mfxby\n",
            "for a inverse:  5  b:  13 haswt\n",
            "for a inverse:  5  b:  14 cvnro\n",
            "for a inverse:  5  b:  15 xqimj\n",
            "for a inverse:  5  b:  16 sldhe\n",
            "for a inverse:  5  b:  17 ngycz\n",
            "for a inverse:  5  b:  18 ibtxu\n",
            "for a inverse:  5  b:  19 dwosp\n",
            "for a inverse:  5  b:  20 yrjnk\n",
            "for a inverse:  5  b:  21 tmeif\n",
            "for a inverse:  5  b:  22 ohzda\n",
            "for a inverse:  5  b:  23 jcuyv\n",
            "for a inverse:  5  b:  24 exptq\n",
            "for a inverse:  5  b:  25 zskol\n",
            "for a inverse:  7  b:  0 cnhxy\n",
            "for a inverse:  7  b:  1 vgaqr\n",
            "for a inverse:  7  b:  2 oztjk\n",
            "for a inverse:  7  b:  3 hsmcd\n",
            "for a inverse:  7  b:  4 alfvw\n",
            "for a inverse:  7  b:  5 teyop\n",
            "for a inverse:  7  b:  6 mxrhi\n",
            "for a inverse:  7  b:  7 fqkab\n",
            "for a inverse:  7  b:  8 yjdtu\n",
            "for a inverse:  7  b:  9 rcwmn\n",
            "for a inverse:  7  b:  10 kvpfg\n",
            "for a inverse:  7  b:  11 doiyz\n",
            "for a inverse:  7  b:  12 whbrs\n",
            "for a inverse:  7  b:  13 paukl\n",
            "for a inverse:  7  b:  14 itnde\n",
            "for a inverse:  7  b:  15 bmgwx\n",
            "for a inverse:  7  b:  16 ufzpq\n",
            "for a inverse:  7  b:  17 nysij\n",
            "for a inverse:  7  b:  18 grlbc\n",
            "for a inverse:  7  b:  19 zkeuv\n",
            "for a inverse:  7  b:  20 sdxno\n",
            "for a inverse:  7  b:  21 lwqgh\n",
            "for a inverse:  7  b:  22 epjza\n",
            "for a inverse:  7  b:  23 xicst\n",
            "for a inverse:  7  b:  24 qbvlm\n",
            "for a inverse:  7  b:  25 juoef\n",
            "for a inverse:  9  b:  0 knjlq\n",
            "for a inverse:  9  b:  1 beach\n",
            "for a inverse:  9  b:  2 svrty\n",
            "for a inverse:  9  b:  3 jmikp\n",
            "for a inverse:  9  b:  4 adzbg\n",
            "for a inverse:  9  b:  5 ruqsx\n",
            "for a inverse:  9  b:  6 ilhjo\n",
            "for a inverse:  9  b:  7 zcyaf\n",
            "for a inverse:  9  b:  8 qtprw\n",
            "for a inverse:  9  b:  9 hkgin\n",
            "for a inverse:  9  b:  10 ybxze\n",
            "for a inverse:  9  b:  11 psoqv\n",
            "for a inverse:  9  b:  12 gjfhm\n",
            "for a inverse:  9  b:  13 xawyd\n",
            "for a inverse:  9  b:  14 ornpu\n",
            "for a inverse:  9  b:  15 fiegl\n",
            "for a inverse:  9  b:  16 wzvxc\n",
            "for a inverse:  9  b:  17 nqmot\n",
            "for a inverse:  9  b:  18 ehdfk\n",
            "for a inverse:  9  b:  19 vyuwb\n",
            "for a inverse:  9  b:  20 mplns\n",
            "for a inverse:  9  b:  21 dgcej\n",
            "for a inverse:  9  b:  22 uxtva\n",
            "for a inverse:  9  b:  23 lokmr\n",
            "for a inverse:  9  b:  24 cfbdi\n",
            "for a inverse:  9  b:  25 twsuz\n",
            "for a inverse:  11  b:  0 snlzi\n",
            "for a inverse:  11  b:  1 hcaox\n",
            "for a inverse:  11  b:  2 wrpdm\n",
            "for a inverse:  11  b:  3 lgesb\n",
            "for a inverse:  11  b:  4 avthq\n",
            "for a inverse:  11  b:  5 pkiwf\n",
            "for a inverse:  11  b:  6 ezxlu\n",
            "for a inverse:  11  b:  7 tomaj\n",
            "for a inverse:  11  b:  8 idbpy\n",
            "for a inverse:  11  b:  9 xsqen\n",
            "for a inverse:  11  b:  10 mhftc\n",
            "for a inverse:  11  b:  11 bwuir\n",
            "for a inverse:  11  b:  12 qljxg\n",
            "for a inverse:  11  b:  13 faymv\n",
            "for a inverse:  11  b:  14 upnbk\n",
            "for a inverse:  11  b:  15 jecqz\n",
            "for a inverse:  11  b:  16 ytrfo\n",
            "for a inverse:  11  b:  17 nigud\n",
            "for a inverse:  11  b:  18 cxvjs\n",
            "for a inverse:  11  b:  19 rmkyh\n",
            "for a inverse:  11  b:  20 gbznw\n",
            "for a inverse:  11  b:  21 vqocl\n",
            "for a inverse:  11  b:  22 kfdra\n",
            "for a inverse:  11  b:  23 zusgp\n",
            "for a inverse:  11  b:  24 ojhve\n",
            "for a inverse:  11  b:  25 dywkt\n",
            "for a inverse:  15  b:  0 inpbs\n",
            "for a inverse:  15  b:  1 tyamd\n",
            "for a inverse:  15  b:  2 ejlxo\n",
            "for a inverse:  15  b:  3 puwiz\n",
            "for a inverse:  15  b:  4 afhtk\n",
            "for a inverse:  15  b:  5 lqsev\n",
            "for a inverse:  15  b:  6 wbdpg\n",
            "for a inverse:  15  b:  7 hmoar\n",
            "for a inverse:  15  b:  8 sxzlc\n",
            "for a inverse:  15  b:  9 dikwn\n",
            "for a inverse:  15  b:  10 otvhy\n",
            "for a inverse:  15  b:  11 zegsj\n",
            "for a inverse:  15  b:  12 kprdu\n",
            "for a inverse:  15  b:  13 vacof\n",
            "for a inverse:  15  b:  14 glnzq\n",
            "for a inverse:  15  b:  15 rwykb\n",
            "for a inverse:  15  b:  16 chjvm\n",
            "for a inverse:  15  b:  17 nsugx\n",
            "for a inverse:  15  b:  18 ydfri\n",
            "for a inverse:  15  b:  19 joqct\n",
            "for a inverse:  15  b:  20 uzbne\n",
            "for a inverse:  15  b:  21 fkmyp\n",
            "for a inverse:  15  b:  22 qvxja\n",
            "for a inverse:  15  b:  23 bgiul\n",
            "for a inverse:  15  b:  24 mrtfw\n",
            "for a inverse:  15  b:  25 xceqh\n",
            "for a inverse:  17  b:  0 qnrpk\n",
            "for a inverse:  17  b:  1 zwayt\n",
            "for a inverse:  17  b:  2 ifjhc\n",
            "for a inverse:  17  b:  3 rosql\n",
            "for a inverse:  17  b:  4 axbzu\n",
            "for a inverse:  17  b:  5 jgkid\n",
            "for a inverse:  17  b:  6 sptrm\n",
            "for a inverse:  17  b:  7 bycav\n",
            "for a inverse:  17  b:  8 khlje\n",
            "for a inverse:  17  b:  9 tqusn\n",
            "for a inverse:  17  b:  10 czdbw\n",
            "for a inverse:  17  b:  11 limkf\n",
            "for a inverse:  17  b:  12 urvto\n",
            "for a inverse:  17  b:  13 daecx\n",
            "for a inverse:  17  b:  14 mjnlg\n",
            "for a inverse:  17  b:  15 vswup\n",
            "for a inverse:  17  b:  16 ebfdy\n",
            "for a inverse:  17  b:  17 nkomh\n",
            "for a inverse:  17  b:  18 wtxvq\n",
            "for a inverse:  17  b:  19 fcgez\n",
            "for a inverse:  17  b:  20 olpni\n",
            "for a inverse:  17  b:  21 xuywr\n",
            "for a inverse:  17  b:  22 gdhfa\n",
            "for a inverse:  17  b:  23 pmqoj\n",
            "for a inverse:  17  b:  24 yvzxs\n",
            "for a inverse:  17  b:  25 heigb\n",
            "for a inverse:  19  b:  0 yntdc\n",
            "for a inverse:  19  b:  1 fuakj\n",
            "for a inverse:  19  b:  2 mbhrq\n",
            "for a inverse:  19  b:  3 tioyx\n",
            "for a inverse:  19  b:  4 apvfe\n",
            "for a inverse:  19  b:  5 hwcml\n",
            "for a inverse:  19  b:  6 odjts\n",
            "for a inverse:  19  b:  7 vkqaz\n",
            "for a inverse:  19  b:  8 crxhg\n",
            "for a inverse:  19  b:  9 jyeon\n",
            "for a inverse:  19  b:  10 qflvu\n",
            "for a inverse:  19  b:  11 xmscb\n",
            "for a inverse:  19  b:  12 etzji\n",
            "for a inverse:  19  b:  13 lagqp\n",
            "for a inverse:  19  b:  14 shnxw\n",
            "for a inverse:  19  b:  15 zoued\n",
            "for a inverse:  19  b:  16 gvblk\n",
            "for a inverse:  19  b:  17 ncisr\n",
            "for a inverse:  19  b:  18 ujpzy\n",
            "for a inverse:  19  b:  19 bqwgf\n",
            "for a inverse:  19  b:  20 ixdnm\n",
            "for a inverse:  19  b:  21 pekut\n",
            "for a inverse:  19  b:  22 wlrba\n",
            "for a inverse:  19  b:  23 dsyih\n",
            "for a inverse:  19  b:  24 kzfpo\n",
            "for a inverse:  19  b:  25 rgmwv\n",
            "for a inverse:  21  b:  0 gnvru\n",
            "for a inverse:  21  b:  1 lsawz\n",
            "for a inverse:  21  b:  2 qxfbe\n",
            "for a inverse:  21  b:  3 vckgj\n",
            "for a inverse:  21  b:  4 ahplo\n",
            "for a inverse:  21  b:  5 fmuqt\n",
            "for a inverse:  21  b:  6 krzvy\n",
            "for a inverse:  21  b:  7 pwead\n",
            "for a inverse:  21  b:  8 ubjfi\n",
            "for a inverse:  21  b:  9 zgokn\n",
            "for a inverse:  21  b:  10 eltps\n",
            "for a inverse:  21  b:  11 jqyux\n",
            "for a inverse:  21  b:  12 ovdzc\n",
            "for a inverse:  21  b:  13 taieh\n",
            "for a inverse:  21  b:  14 yfnjm\n",
            "for a inverse:  21  b:  15 dksor\n",
            "for a inverse:  21  b:  16 ipxtw\n",
            "for a inverse:  21  b:  17 nucyb\n",
            "for a inverse:  21  b:  18 szhdg\n",
            "for a inverse:  21  b:  19 xemil\n",
            "for a inverse:  21  b:  20 cjrnq\n",
            "for a inverse:  21  b:  21 howsv\n",
            "for a inverse:  21  b:  22 mtbxa\n",
            "for a inverse:  21  b:  23 rygcf\n",
            "for a inverse:  21  b:  24 wdlhk\n",
            "for a inverse:  21  b:  25 biqmp\n",
            "for a inverse:  23  b:  0 onxfm\n",
            "for a inverse:  23  b:  1 rqaip\n",
            "for a inverse:  23  b:  2 utdls\n",
            "for a inverse:  23  b:  3 xwgov\n",
            "for a inverse:  23  b:  4 azjry\n",
            "for a inverse:  23  b:  5 dcmub\n",
            "for a inverse:  23  b:  6 gfpxe\n",
            "for a inverse:  23  b:  7 jisah\n",
            "for a inverse:  23  b:  8 mlvdk\n",
            "for a inverse:  23  b:  9 poygn\n",
            "for a inverse:  23  b:  10 srbjq\n",
            "for a inverse:  23  b:  11 vuemt\n",
            "for a inverse:  23  b:  12 yxhpw\n",
            "for a inverse:  23  b:  13 baksz\n",
            "for a inverse:  23  b:  14 ednvc\n",
            "for a inverse:  23  b:  15 hgqyf\n",
            "for a inverse:  23  b:  16 kjtbi\n",
            "for a inverse:  23  b:  17 nmwel\n",
            "for a inverse:  23  b:  18 qpzho\n",
            "for a inverse:  23  b:  19 tsckr\n",
            "for a inverse:  23  b:  20 wvfnu\n",
            "for a inverse:  23  b:  21 zyiqx\n",
            "for a inverse:  23  b:  22 cblta\n",
            "for a inverse:  23  b:  23 feowd\n",
            "for a inverse:  23  b:  24 ihrzg\n",
            "for a inverse:  23  b:  25 lkucj\n",
            "for a inverse:  25  b:  0 wnzte\n",
            "for a inverse:  25  b:  1 xoauf\n",
            "for a inverse:  25  b:  2 ypbvg\n",
            "for a inverse:  25  b:  3 zqcwh\n",
            "for a inverse:  25  b:  4 ardxi\n",
            "for a inverse:  25  b:  5 bseyj\n",
            "for a inverse:  25  b:  6 ctfzk\n",
            "for a inverse:  25  b:  7 dugal\n",
            "for a inverse:  25  b:  8 evhbm\n",
            "for a inverse:  25  b:  9 fwicn\n",
            "for a inverse:  25  b:  10 gxjdo\n",
            "for a inverse:  25  b:  11 hykep\n",
            "for a inverse:  25  b:  12 izlfq\n",
            "for a inverse:  25  b:  13 jamgr\n",
            "for a inverse:  25  b:  14 kbnhs\n",
            "for a inverse:  25  b:  15 lcoit\n",
            "for a inverse:  25  b:  16 mdpju\n",
            "for a inverse:  25  b:  17 neqkv\n",
            "for a inverse:  25  b:  18 ofrlw\n",
            "for a inverse:  25  b:  19 pgsmx\n",
            "for a inverse:  25  b:  20 qhtny\n",
            "for a inverse:  25  b:  21 riuoz\n",
            "for a inverse:  25  b:  22 sjvpa\n",
            "for a inverse:  25  b:  23 tkwqb\n",
            "for a inverse:  25  b:  24 ulxrc\n",
            "for a inverse:  25  b:  25 vmysd\n"
          ],
          "name": "stdout"
        }
      ]
    },
    {
      "cell_type": "code",
      "metadata": {
        "colab": {
          "base_uri": "https://localhost:8080/"
        },
        "id": "PXGecVu7qKdN",
        "outputId": "85ab0594-4c39-49df-f94a-f49e3ed06a79"
      },
      "source": [
        "#Known Plain text Attack on Affine cipher\n",
        "plain=list(input(\"enter 2 char of known plain:  \"))\n",
        "cipher=list(input(\"enter 2 char of corresponding cipher:  \"))\n",
        "def modInverse(a, m):\n",
        "     \n",
        "    for x in range(1, m):\n",
        "        if (((a%m) * (x%m)) % m == 1):\n",
        "            return x\n",
        "    return -1\n",
        "c=ord(cipher[0])-ord(cipher[1])\n",
        "p=ord(plain[0])-ord(plain[1])\n",
        "p=modInverse(p,26)\n",
        "a=c*p\n",
        "a=a%26\n",
        "b=(ord(cipher[0])-ord('a'))-a*(ord(plain[0])-ord('a'))\n",
        "b=b%26\n",
        "print(\"key: \",a,b)"
      ],
      "execution_count": null,
      "outputs": [
        {
          "output_type": "stream",
          "text": [
            "enter 2 char of known plain:  il\n",
            "enter 2 char of corresponding cipher:  fo\n",
            "key:  3 7\n"
          ],
          "name": "stdout"
        }
      ]
    },
    {
      "cell_type": "code",
      "metadata": {
        "id": "D9PJsT8_zBup"
      },
      "source": [
        ""
      ],
      "execution_count": null,
      "outputs": []
    },
    {
      "cell_type": "code",
      "metadata": {
        "colab": {
          "base_uri": "https://localhost:8080/"
        },
        "id": "uHYUw7ZBxkKa",
        "outputId": "94d7e9fe-6168-415a-b697-35e8c0e8c96a"
      },
      "source": [
        "cipher=input(\"Enter the known cipher text: \")\n",
        "def decrept(k):\n",
        "  plain=\"\"\n",
        "  for char in cipher:\n",
        "    plain += chr((ord(char)-k - ord('a')) % 26 + ord('a')) \n",
        "  return plain\n",
        "\n",
        "for i in range(26):\n",
        "  plain=decrept(i+1)\n",
        "  print(\"For the key:\",i+1)\n",
        "  print(\"The original text is:\"+plain)"
      ],
      "execution_count": null,
      "outputs": [
        {
          "output_type": "stream",
          "text": [
            "Enter the known cipher text: xyzabcdefghijklmnopqrstuvw\n",
            "For the key: 1\n",
            "The original text is:wxyzabcdefghijklmnopqrstuv\n",
            "For the key: 2\n",
            "The original text is:vwxyzabcdefghijklmnopqrstu\n",
            "For the key: 3\n",
            "The original text is:uvwxyzabcdefghijklmnopqrst\n",
            "For the key: 4\n",
            "The original text is:tuvwxyzabcdefghijklmnopqrs\n",
            "For the key: 5\n",
            "The original text is:stuvwxyzabcdefghijklmnopqr\n",
            "For the key: 6\n",
            "The original text is:rstuvwxyzabcdefghijklmnopq\n",
            "For the key: 7\n",
            "The original text is:qrstuvwxyzabcdefghijklmnop\n",
            "For the key: 8\n",
            "The original text is:pqrstuvwxyzabcdefghijklmno\n",
            "For the key: 9\n",
            "The original text is:opqrstuvwxyzabcdefghijklmn\n",
            "For the key: 10\n",
            "The original text is:nopqrstuvwxyzabcdefghijklm\n",
            "For the key: 11\n",
            "The original text is:mnopqrstuvwxyzabcdefghijkl\n",
            "For the key: 12\n",
            "The original text is:lmnopqrstuvwxyzabcdefghijk\n",
            "For the key: 13\n",
            "The original text is:klmnopqrstuvwxyzabcdefghij\n",
            "For the key: 14\n",
            "The original text is:jklmnopqrstuvwxyzabcdefghi\n",
            "For the key: 15\n",
            "The original text is:ijklmnopqrstuvwxyzabcdefgh\n",
            "For the key: 16\n",
            "The original text is:hijklmnopqrstuvwxyzabcdefg\n",
            "For the key: 17\n",
            "The original text is:ghijklmnopqrstuvwxyzabcdef\n",
            "For the key: 18\n",
            "The original text is:fghijklmnopqrstuvwxyzabcde\n",
            "For the key: 19\n",
            "The original text is:efghijklmnopqrstuvwxyzabcd\n",
            "For the key: 20\n",
            "The original text is:defghijklmnopqrstuvwxyzabc\n",
            "For the key: 21\n",
            "The original text is:cdefghijklmnopqrstuvwxyzab\n",
            "For the key: 22\n",
            "The original text is:bcdefghijklmnopqrstuvwxyza\n",
            "For the key: 23\n",
            "The original text is:abcdefghijklmnopqrstuvwxyz\n",
            "For the key: 24\n",
            "The original text is:zabcdefghijklmnopqrstuvwxy\n",
            "For the key: 25\n",
            "The original text is:yzabcdefghijklmnopqrstuvwx\n",
            "For the key: 26\n",
            "The original text is:xyzabcdefghijklmnopqrstuvw\n"
          ],
          "name": "stdout"
        }
      ]
    },
    {
      "cell_type": "code",
      "metadata": {
        "colab": {
          "base_uri": "https://localhost:8080/"
        },
        "id": "EfyGrXizEYcG",
        "outputId": "e766684a-082c-46ad-8b87-5354f6f47043"
      },
      "source": [
        "from itertools import permutations\n",
        "\n",
        "S=input(\"Enter the cipher text : \")\n",
        "key=int(input(\"Enter the key size: \"))\n",
        "rows=int(input(\"Enter the no. of rows: \"))\n",
        "\n",
        "Matrix = [ [ 0 for i in range(key) ] for j in range(rows) ]\n",
        "c=0\n",
        "for i in range(key):\n",
        "  for j in range(rows):\n",
        "    Matrix[j][i]=S[c]\n",
        "    c+=1\n",
        "\n",
        "k=[i for i in range(key)]\n",
        "def decrept(k):\n",
        "  plain=\"\"\n",
        "  for i in range(rows):\n",
        "    for j in k:\n",
        "      plain+=(Matrix[i][j])\n",
        "  return plain\n",
        "\n",
        "Per=list(permutations(k))\n",
        "\n",
        "print(\"Brute force attack\")\n",
        "for i in Per:\n",
        "  print(decrept(i))"
      ],
      "execution_count": null,
      "outputs": [
        {
          "output_type": "stream",
          "text": [
            "Enter the cipher text : eorxlwlxhlod\n",
            "Enter the key size: 3\n",
            "Enter the no. of rows: 4\n",
            "Brute force attack\n",
            "elhowlrloxxd\n",
            "ehlolwrolxdx\n",
            "lehwollroxxd\n",
            "lhewlolorxdx\n",
            "helloworldxx\n",
            "hlelwoolrdxx\n"
          ],
          "name": "stdout"
        }
      ]
    },
    {
      "cell_type": "code",
      "metadata": {
        "colab": {
          "base_uri": "https://localhost:8080/"
        },
        "id": "o2I_cXNvHM5P",
        "outputId": "a85d896a-f048-4e6f-e5a9-c4c170f623a6"
      },
      "source": [
        "#new method\n",
        "plain=list(input())\n",
        "key=int(input())\n",
        "def encrypt(a,k):\n",
        "  b=ord(a)-ord('a')+k\n",
        "  b=b%26\n",
        "  b=chr(b+ord('a'))\n",
        "  return b\n",
        "cipher=[]\n",
        "for i in range(len(plain)):\n",
        "  a=encrypt(plain[i],key+i)\n",
        "  cipher.append(a)\n",
        "print( ''.join(map(str, cipher)))\n",
        "def decrypt(a,k):\n",
        "  b=ord(a)-ord('a')-k\n",
        "  b=b%26\n",
        "  b=chr(b+ord('a'))\n",
        "  return b\n",
        "decre=[]\n",
        "for i in range(len(cipher)):\n",
        "  a=decrypt(cipher[i],key+i)\n",
        "  decre.append(a)\n",
        "print( ''.join(map(str, decre)))"
      ],
      "execution_count": null,
      "outputs": [
        {
          "output_type": "stream",
          "text": [
            "ababab\n",
            "4\n",
            "eggiik\n",
            "ababab\n"
          ],
          "name": "stdout"
        }
      ]
    },
    {
      "cell_type": "code",
      "metadata": {
        "colab": {
          "base_uri": "https://localhost:8080/"
        },
        "id": "_JnJhozJzDpP",
        "outputId": "1c38bf53-6ebc-47fd-c38b-ee7f8e4989ef"
      },
      "source": [
        "key=input(\"Key:\")\n",
        "L=list(key)\n",
        "if (len(key)<256):\n",
        "  for i in range(256-len(key)):\n",
        "    L.append(key[i % len(key)])\n",
        "updatedkey=(\"\".join(L))         #updated key list\n",
        "print(updatedkey)\n",
        "  \n",
        "S=[]  #S-Box\n",
        "K=[]  #i-th key value bite list\n",
        "\n",
        "for i in range(256):\n",
        "  S.append(i)\n",
        "  K.append(ord(L[i])-ord('a')+1)\n",
        "j=0\n",
        "for i in range(256):\n",
        "  j = (j + S[i] + K[i]) % 256\n",
        "  S[i],S[j]=S[j],S[i]\n",
        "print(\"identity permitation: \",S)\n",
        "i = 0 \n",
        "j = 0\n",
        "keystream_byte =[]\n",
        "for k in range(256):\n",
        "  i = (i+1) % 256\n",
        "  j = (j+S[i]) % 256\n",
        "  S[i],S[j]=S[j],S[i]\n",
        "  t = (S[i] + S[j]) %256\n",
        "  keystream_byte.append(S[t])\n",
        "print(\"Keystream in byte:\",keystream_byte)\n",
        "#Encryption\n",
        "def encrypt(a,k):\n",
        "  b=(a+k)%256\n",
        "  return b\n",
        "plaintext_stream=list(map(int,input( \"Enter plaintext: \").split()))\n",
        "ciphertext_stream=[]\n",
        "for i in range(len(plaintext_stream)):\n",
        "  ciphertext_stream.append(encrypt(plaintext_stream[i],keystream_byte[i]))\n",
        "print(\"cipher text: \",ciphertext_stream)\n",
        "\n",
        "\n",
        "#Decryption\n",
        "def decrypt(a,k):\n",
        "  b=(a-k)%256\n",
        "  return b\n",
        "\n",
        "decrypttext_stream=[]\n",
        "for i in range(len(ciphertext_stream)):\n",
        "  decrypttext_stream.append(decrypt(ciphertext_stream[i],keystream_byte[i]))\n",
        "print(\"decrypted text: \",decrypttext_stream)"
      ],
      "execution_count": null,
      "outputs": [
        {
          "output_type": "stream",
          "text": [
            "Key:keyword\n",
            "keywordkeywordkeywordkeywordkeywordkeywordkeywordkeywordkeywordkeywordkeywordkeywordkeywordkeywordkeywordkeywordkeywordkeywordkeywordkeywordkeywordkeywordkeywordkeywordkeywordkeywordkeywordkeywordkeywordkeywordkeywordkeywordkeywordkeywordkeywordkeywordkeyw\n",
            "identity permitation:  [225, 55, 44, 92, 89, 112, 170, 140, 2, 60, 94, 103, 27, 28, 51, 71, 160, 136, 120, 65, 230, 25, 33, 81, 128, 57, 145, 20, 26, 74, 102, 163, 203, 186, 168, 15, 16, 82, 78, 243, 49, 64, 189, 110, 215, 76, 67, 129, 236, 62, 182, 133, 253, 122, 87, 54, 219, 34, 108, 176, 30, 157, 154, 40, 1, 221, 10, 214, 132, 205, 166, 70, 100, 196, 123, 23, 171, 35, 86, 36, 85, 155, 227, 21, 195, 118, 0, 238, 79, 179, 106, 14, 232, 152, 229, 96, 43, 73, 117, 162, 250, 84, 127, 235, 99, 198, 202, 222, 159, 45, 237, 158, 69, 255, 178, 109, 3, 48, 66, 144, 204, 149, 192, 47, 216, 246, 226, 41, 151, 58, 180, 206, 135, 211, 217, 228, 183, 247, 197, 141, 249, 13, 42, 124, 59, 150, 12, 218, 93, 32, 199, 29, 248, 119, 177, 6, 201, 88, 130, 234, 5, 223, 139, 156, 147, 95, 56, 241, 53, 153, 239, 224, 61, 210, 7, 80, 164, 98, 72, 161, 75, 190, 207, 24, 146, 193, 39, 8, 125, 165, 167, 242, 97, 37, 231, 90, 233, 115, 38, 194, 116, 188, 101, 63, 169, 104, 143, 252, 52, 17, 184, 105, 19, 121, 113, 18, 111, 254, 181, 138, 191, 131, 126, 245, 220, 240, 185, 175, 4, 50, 187, 22, 77, 9, 173, 134, 91, 213, 148, 83, 11, 107, 174, 114, 46, 244, 172, 31, 208, 200, 212, 137, 142, 209, 68, 251]\n",
            "Keystream in byte: [45, 143, 86, 254, 243, 43, 133, 44, 101, 116, 249, 181, 91, 223, 200, 89, 34, 191, 69, 129, 254, 243, 61, 78, 20, 214, 20, 24, 67, 176, 126, 254, 25, 35, 82, 225, 18, 112, 172, 163, 71, 100, 61, 73, 99, 114, 68, 192, 200, 35, 37, 174, 28, 137, 35, 219, 58, 3, 183, 229, 186, 177, 124, 27, 67, 156, 26, 66, 234, 100, 239, 69, 241, 175, 4, 3, 222, 24, 230, 156, 231, 5, 142, 118, 58, 66, 247, 28, 248, 74, 4, 242, 35, 60, 220, 188, 199, 181, 111, 183, 75, 254, 100, 4, 7, 110, 90, 69, 195, 42, 233, 171, 111, 1, 46, 202, 104, 59, 208, 230, 103, 17, 148, 254, 193, 147, 21, 228, 53, 82, 56, 183, 255, 180, 83, 69, 8, 44, 53, 123, 180, 98, 131, 192, 200, 239, 100, 10, 13, 208, 55, 176, 133, 88, 3, 38, 91, 94, 203, 62, 236, 39, 25, 184, 157, 215, 135, 137, 7, 40, 67, 82, 175, 53, 165, 224, 203, 205, 63, 38, 114, 238, 110, 54, 130, 178, 93, 226, 31, 70, 150, 8, 67, 176, 55, 253, 55, 252, 208, 189, 85, 68, 74, 31, 127, 243, 135, 146, 88, 123, 217, 167, 244, 146, 204, 156, 137, 34, 142, 81, 51, 219, 65, 128, 155, 142, 45, 74, 149, 172, 85, 32, 164, 230, 173, 223, 7, 145, 58, 144, 67, 23, 251, 56, 167, 142, 88, 109, 48, 138, 218, 255, 4, 18, 135, 202]\n",
            "Enter plaintext: 23 44 124 235 178 190 45\n",
            "cipher text:  [68, 187, 210, 233, 165, 233, 178]\n",
            "decrypted text:  [23, 44, 124, 235, 178, 190, 45]\n"
          ],
          "name": "stdout"
        }
      ]
    },
    {
      "cell_type": "markdown",
      "metadata": {
        "id": "oTJrmq5xsBvF"
      },
      "source": [
        "## **DES**"
      ]
    },
    {
      "cell_type": "code",
      "metadata": {
        "id": "PudfvkzMqQti"
      },
      "source": [
        "#Key Schduling Algo\n",
        "\n",
        "def ParityDrop(Key):\n",
        "  Compressed_key=[]\n",
        "  ParityTable=[57,49,41,33,25,17,9,1,58,50,42,34,26,18,10,2,59,51,43,35,27,19,11,3,60,52,44,36,63,55,47,39,31,23,15,7,62,54,46,38,30,22,14,6,61,53,45,37,29,21,13,5,28,20,12,4]\n",
        "  for i in ParityTable:\n",
        "    Compressed_key.append(Key[i-1])\n",
        "  return Compressed_key\n",
        "\n",
        "def Shift_left(Key,bit):\n",
        "  Left=[]\n",
        "  for i in range(len(Key)):\n",
        "    Left.append(Key[(i+bit)%len(Key)])\n",
        "  return Left\n",
        "def Pbox(Key):\n",
        "  key_comp = [14, 17, 11, 24, 1, 5,3, 28, 15, 6, 21, 10,23, 19, 12, 4, 26, 8,16, 7, 27, 20, 13, 2,41, 52, 31, 37, 47, 55,30, 40, 51, 45, 33, 48,44, 49, 39, 56, 34, 53,46, 42, 50, 36, 29, 32 ]\n",
        "  Compressed_key=[]\n",
        "  for i in key_comp:\n",
        "    Compressed_key.append(Key[i-1])\n",
        "  return Compressed_key\n",
        "\n",
        "def KeyGeneration(Key):\n",
        "  Key=ParityDrop(Key)\n",
        "  Round_keys=[]\n",
        "  for i in range(16):\n",
        "    left_half=Key[:28]\n",
        "    right_half=Key[28:]\n",
        "    bit=2\n",
        "    if i in [0,1,8,15]:\n",
        "      bit=1\n",
        "    left_half=Shift_left(left_half,bit)\n",
        "    right_half=Shift_left(right_half,bit)\n",
        "    Key=left_half+right_half\n",
        "    Compressed_Key=Pbox(Key)\n",
        "    Round_keys.append(Compressed_Key)\n",
        "  return Round_keys\n",
        "\n",
        "\n"
      ],
      "execution_count": null,
      "outputs": []
    },
    {
      "cell_type": "code",
      "metadata": {
        "id": "2hD1Lw8Q1b8P"
      },
      "source": [
        "def hex2bin(s):\n",
        "    mp = {'0' : \"0000\",\n",
        "          '1' : \"0001\",\n",
        "          '2' : \"0010\",\n",
        "          '3' : \"0011\",\n",
        "          '4' : \"0100\",\n",
        "          '5' : \"0101\",\n",
        "          '6' : \"0110\",\n",
        "          '7' : \"0111\",\n",
        "          '8' : \"1000\",\n",
        "          '9' : \"1001\",\n",
        "          'A' : \"1010\",\n",
        "          'B' : \"1011\",\n",
        "          'C' : \"1100\",\n",
        "          'D' : \"1101\",\n",
        "          'E' : \"1110\",\n",
        "          'F' : \"1111\" }\n",
        "    bin = \"\"\n",
        "    for i in range(len(s)):\n",
        "        bin = bin + mp[s[i]]\n",
        "    return bin\n",
        "     \n",
        "# Binary to hexadecimal conversion\n",
        "def bin2hex(s):\n",
        "    mp = {\"0000\" : '0',\n",
        "          \"0001\" : '1',\n",
        "          \"0010\" : '2',\n",
        "          \"0011\" : '3',\n",
        "          \"0100\" : '4',\n",
        "          \"0101\" : '5',\n",
        "          \"0110\" : '6',\n",
        "          \"0111\" : '7',\n",
        "          \"1000\" : '8',\n",
        "          \"1001\" : '9',\n",
        "          \"1010\" : 'A',\n",
        "          \"1011\" : 'B',\n",
        "          \"1100\" : 'C',\n",
        "          \"1101\" : 'D',\n",
        "          \"1110\" : 'E',\n",
        "          \"1111\" : 'F' }\n",
        "    hex = \"\"\n",
        "    for i in range(0,len(s),4):\n",
        "        ch = \"\"\n",
        "        ch = ch + s[i]\n",
        "        ch = ch + s[i + 1]\n",
        "        ch = ch + s[i + 2]\n",
        "        ch = ch + s[i + 3]\n",
        "        hex = hex + mp[ch]\n",
        "         \n",
        "    return hex\n",
        "def bin2dec(binary):\n",
        "       \n",
        "    binary1 = binary\n",
        "    decimal, i, n = 0, 0, 0\n",
        "    while(binary != 0):\n",
        "        dec = binary % 10\n",
        "        decimal = decimal + dec * pow(2, i)\n",
        "        binary = binary//10\n",
        "        i += 1\n",
        "    return decimal\n",
        " \n",
        "# Decimal to binary conversion\n",
        "def dec2bin(num):\n",
        "    res = bin(num).replace(\"0b\", \"\")\n",
        "    if(len(res)%4 != 0):\n",
        "        div = len(res) / 4\n",
        "        div = int(div)\n",
        "        counter =(4 * (div + 1)) - len(res)\n",
        "        for i in range(0, counter):\n",
        "            res = '0' + res\n",
        "    return res"
      ],
      "execution_count": null,
      "outputs": []
    },
    {
      "cell_type": "code",
      "metadata": {
        "colab": {
          "base_uri": "https://localhost:8080/"
        },
        "id": "uIKATxLMxakK",
        "outputId": "cf261770-596c-4e27-e60d-715506edacec"
      },
      "source": [
        "Key=list(\"AABB09182736CCDD\")\n",
        "Key=list(hex2bin(Key))\n",
        "Rounded_keys=KeyGeneration(Key)\n",
        "print(len(Rounded_keys),len(Rounded_keys[0]))\n"
      ],
      "execution_count": null,
      "outputs": [
        {
          "output_type": "stream",
          "name": "stdout",
          "text": [
            "16 48\n"
          ]
        }
      ]
    },
    {
      "cell_type": "code",
      "metadata": {
        "colab": {
          "base_uri": "https://localhost:8080/"
        },
        "id": "y4ejp3Yq6Qm4",
        "outputId": "cec5665a-1b82-4d72-e806-9791a42eb507"
      },
      "source": [
        "a=[]\n",
        "for i in Rounded_keys:\n",
        "  a.append(bin2hex(\"\".join(i)))\n",
        "print(a)"
      ],
      "execution_count": null,
      "outputs": [
        {
          "output_type": "stream",
          "name": "stdout",
          "text": [
            "['194CD072DE8C', '4568581ABCCE', '06EDA4ACF5B5', 'DA2D032B6EE3', '69A629FEC913', 'C1948E87475E', '708AD2DDB3C0', '34F822F0C66D', '84BB4473DCCC', '02765708B5BF', '6D5560AF7CA5', 'C2C1E96A4BF3', '99C31397C91F', '251B8BC717D0', '3330C5D9A36D', '181C5D75C66D']\n"
          ]
        }
      ]
    },
    {
      "cell_type": "code",
      "metadata": {
        "id": "dv1_GfIM3EI7"
      },
      "source": [
        "#Encryption\n",
        "def initalPermutation(text):\n",
        "  inital_per=[58, 50, 42, 34, 26, 18, 10, 2,60, 52, 44, 36, 28, 20, 12, 4,62, 54, 46, 38, 30, 22, 14, 6,64, 56, 48, 40, 32, 24, 16, 8,57, 49, 41, 33, 25, 17, 9, 1,59, 51, 43, 35, 27, 19, 11, 3,61, 53, 45, 37, 29, 21, 13, 5,63, 55, 47, 39, 31, 23, 15, 7]\n",
        "  permuted_text=[]\n",
        "  for i in inital_per:\n",
        "    permuted_text.append(text[i-1])\n",
        "  return permuted_text\n",
        "def FinalPermutation(text):\n",
        "  final_per=[40, 8, 48, 16, 56, 24, 64, 32,39, 7, 47, 15, 55, 23, 63, 31,38, 6, 46, 14, 54, 22, 62, 30,37, 5, 45, 13, 53, 21, 61, 29,36, 4, 44, 12, 52, 20, 60, 28,35, 3, 43, 11, 51, 19, 59, 27,34, 2, 42, 10, 50, 18, 58, 26,33, 1, 41, 9, 49, 17, 57, 25]\n",
        "  permuted_text=[]\n",
        "  for i in final_per:\n",
        "    permuted_text.append(text[i-1])\n",
        "  return permuted_text\n",
        "def Expansion(text):\n",
        "  Expansion=[32, 1 , 2 , 3 , 4 , 5 , 4 , 5, 6 , 7 , 8 , 9 , 8 , 9 , 10, 11, 12, 13, 12, 13, 14, 15, 16, 17,16, 17, 18, 19, 20, 21, 20, 21,22, 23, 24, 25, 24, 25, 26, 27,28, 29, 28, 29, 30, 31, 32, 1]\n",
        "  expanded_text=[]\n",
        "  for i in Expansion:\n",
        "    expanded_text.append(text[i-1])\n",
        "  return expanded_text\n",
        "def xor(a, b):\n",
        "    c = []\n",
        "    for i in range(len(a)):\n",
        "        if a[i] == b[i]:\n",
        "            c.append('0')\n",
        "        else:\n",
        "            c.append('1')\n",
        "    return c\n",
        "def Sbox(text):\n",
        "  sbox =  [[[14, 4, 13, 1, 2, 15, 11, 8, 3, 10, 6, 12, 5, 9, 0, 7],\n",
        "          [ 0, 15, 7, 4, 14, 2, 13, 1, 10, 6, 12, 11, 9, 5, 3, 8],\n",
        "          [ 4, 1, 14, 8, 13, 6, 2, 11, 15, 12, 9, 7, 3, 10, 5, 0],\n",
        "          [15, 12, 8, 2, 4, 9, 1, 7, 5, 11, 3, 14, 10, 0, 6, 13 ]],\n",
        "            \n",
        "         [[15, 1, 8, 14, 6, 11, 3, 4, 9, 7, 2, 13, 12, 0, 5, 10],\n",
        "            [3, 13, 4, 7, 15, 2, 8, 14, 12, 0, 1, 10, 6, 9, 11, 5],\n",
        "            [0, 14, 7, 11, 10, 4, 13, 1, 5, 8, 12, 6, 9, 3, 2, 15],\n",
        "           [13, 8, 10, 1, 3, 15, 4, 2, 11, 6, 7, 12, 0, 5, 14, 9 ]],\n",
        "   \n",
        "         [ [10, 0, 9, 14, 6, 3, 15, 5, 1, 13, 12, 7, 11, 4, 2, 8],\n",
        "           [13, 7, 0, 9, 3, 4, 6, 10, 2, 8, 5, 14, 12, 11, 15, 1],\n",
        "           [13, 6, 4, 9, 8, 15, 3, 0, 11, 1, 2, 12, 5, 10, 14, 7],\n",
        "            [1, 10, 13, 0, 6, 9, 8, 7, 4, 15, 14, 3, 11, 5, 2, 12 ]],\n",
        "       \n",
        "          [ [7, 13, 14, 3, 0, 6, 9, 10, 1, 2, 8, 5, 11, 12, 4, 15],\n",
        "           [13, 8, 11, 5, 6, 15, 0, 3, 4, 7, 2, 12, 1, 10, 14, 9],\n",
        "           [10, 6, 9, 0, 12, 11, 7, 13, 15, 1, 3, 14, 5, 2, 8, 4],\n",
        "            [3, 15, 0, 6, 10, 1, 13, 8, 9, 4, 5, 11, 12, 7, 2, 14] ],\n",
        "        \n",
        "          [ [2, 12, 4, 1, 7, 10, 11, 6, 8, 5, 3, 15, 13, 0, 14, 9],\n",
        "           [14, 11, 2, 12, 4, 7, 13, 1, 5, 0, 15, 10, 3, 9, 8, 6],\n",
        "            [4, 2, 1, 11, 10, 13, 7, 8, 15, 9, 12, 5, 6, 3, 0, 14],\n",
        "           [11, 8, 12, 7, 1, 14, 2, 13, 6, 15, 0, 9, 10, 4, 5, 3 ]],\n",
        "       \n",
        "         [ [12, 1, 10, 15, 9, 2, 6, 8, 0, 13, 3, 4, 14, 7, 5, 11],\n",
        "           [10, 15, 4, 2, 7, 12, 9, 5, 6, 1, 13, 14, 0, 11, 3, 8],\n",
        "            [9, 14, 15, 5, 2, 8, 12, 3, 7, 0, 4, 10, 1, 13, 11, 6],\n",
        "            [4, 3, 2, 12, 9, 5, 15, 10, 11, 14, 1, 7, 6, 0, 8, 13] ],\n",
        "         \n",
        "          [ [4, 11, 2, 14, 15, 0, 8, 13, 3, 12, 9, 7, 5, 10, 6, 1],\n",
        "           [13, 0, 11, 7, 4, 9, 1, 10, 14, 3, 5, 12, 2, 15, 8, 6],\n",
        "            [1, 4, 11, 13, 12, 3, 7, 14, 10, 15, 6, 8, 0, 5, 9, 2],\n",
        "            [6, 11, 13, 8, 1, 4, 10, 7, 9, 5, 0, 15, 14, 2, 3, 12] ],\n",
        "        \n",
        "         [ [13, 2, 8, 4, 6, 15, 11, 1, 10, 9, 3, 14, 5, 0, 12, 7],\n",
        "            [1, 15, 13, 8, 10, 3, 7, 4, 12, 5, 6, 11, 0, 14, 9, 2],\n",
        "            [7, 11, 4, 1, 9, 12, 14, 2, 0, 6, 10, 13, 15, 3, 5, 8],\n",
        "            [2, 1, 14, 7, 4, 10, 8, 13, 15, 12, 9, 0, 3, 5, 6, 11] ] ]\n",
        "  chunks=[]\n",
        "  for i in range(0,48,6):\n",
        "    a=text[i:i+6]\n",
        "    chunks.append(a)\n",
        "  updated_text=[]\n",
        "  for i in range(8):\n",
        "    row=int(chunks[i][0]+chunks[i][5])\n",
        "    column=int(chunks[i][1]+chunks[i][2]+chunks[i][3]+chunks[i][4])\n",
        "    row=bin2dec(row)\n",
        "    column=bin2dec(column)\n",
        "    value=sbox[i][row][column]\n",
        "    value=list(dec2bin(value))\n",
        "    updated_text+=value\n",
        "  return updated_text\n",
        "def straightPermutation(text):\n",
        "  permutation=[16,  7, 20, 21,29, 12, 28, 17,1, 15, 23, 26,5, 18, 31, 10, 2,  8, 24, 14,32, 27,  3,  9,19, 13, 30,  6, 22, 11,  4, 25 ]\n",
        "  permutated_text=[]\n",
        "  for i in permutation:\n",
        "    permutated_text.append(text[i-1])\n",
        "  return permutated_text\n",
        "def DESfunction(text,key):\n",
        "  text=Expansion(text)\n",
        "  value=xor(text,key)\n",
        "  value=Sbox(value)\n",
        "  value=straightPermutation(value)\n",
        "  return value\n",
        "  \n",
        "  \n"
      ],
      "execution_count": null,
      "outputs": []
    },
    {
      "cell_type": "code",
      "metadata": {
        "colab": {
          "base_uri": "https://localhost:8080/"
        },
        "id": "QYOrsCdg8SZ8",
        "outputId": "d5b895ac-55d1-4f53-c105-33c4814e064e"
      },
      "source": [
        "#Encryption\n",
        "def DESEncryption(text,key):\n",
        "  text=initalPermutation(text)\n",
        "  Rounded_keys=KeyGeneration(key)\n",
        "  left_part=text[:32]\n",
        "  right_part=text[32:]\n",
        "  for i in range(16):\n",
        "    value=DESfunction(right_part,Rounded_keys[i])\n",
        "    left_part=xor(left_part,value)\n",
        "    if i!=15:\n",
        "      left_part,right_part=right_part,left_part\n",
        "    print(bin2hex(\"\".join(left_part)),bin2hex(\"\".join(right_part)),bin2hex(\"\".join(Rounded_keys[i])))\n",
        "  text=left_part+right_part\n",
        "  text=FinalPermutation(text)\n",
        "  return text\n",
        "text = \"123456ABCD132536\"\n",
        "key = \"AABB09182736CCDD\"\n",
        "text = list(hex2bin(text))\n",
        "key = list(hex2bin(key))\n",
        "ciper=DESEncryption(text,key)\n",
        "print(ciper)"
      ],
      "execution_count": null,
      "outputs": [
        {
          "output_type": "stream",
          "name": "stdout",
          "text": [
            "18CA18AD 5A78E394 194CD072DE8C\n",
            "5A78E394 4A1210F6 4568581ABCCE\n",
            "4A1210F6 B8089591 06EDA4ACF5B5\n",
            "B8089591 236779C2 DA2D032B6EE3\n",
            "236779C2 A15A4B87 69A629FEC913\n",
            "A15A4B87 2E8F9C65 C1948E87475E\n",
            "2E8F9C65 A9FC20A3 708AD2DDB3C0\n",
            "A9FC20A3 308BEE97 34F822F0C66D\n",
            "308BEE97 10AF9D37 84BB4473DCCC\n",
            "10AF9D37 6CA6CB20 02765708B5BF\n",
            "6CA6CB20 FF3C485F 6D5560AF7CA5\n",
            "FF3C485F 22A5963B C2C1E96A4BF3\n",
            "22A5963B 387CCDAA 99C31397C91F\n",
            "387CCDAA BD2DD2AB 251B8BC717D0\n",
            "BD2DD2AB CF26B472 3330C5D9A36D\n",
            "19BA9212 CF26B472 181C5D75C66D\n",
            "['1', '1', '0', '0', '0', '0', '0', '0', '1', '0', '1', '1', '0', '1', '1', '1', '1', '0', '1', '0', '1', '0', '0', '0', '1', '1', '0', '1', '0', '0', '0', '0', '0', '1', '0', '1', '1', '1', '1', '1', '0', '0', '1', '1', '1', '0', '1', '0', '1', '0', '0', '0', '0', '0', '1', '0', '1', '0', '0', '1', '1', '1', '0', '0']\n"
          ]
        }
      ]
    },
    {
      "cell_type": "code",
      "metadata": {
        "id": "o_5mz9WD9EKQ",
        "colab": {
          "base_uri": "https://localhost:8080/"
        },
        "outputId": "0846ce0f-cd41-4534-be7f-13a1321b1c88"
      },
      "source": [
        "print(len(ciper))\n",
        "print(bin2hex(\"\".join(ciper)))"
      ],
      "execution_count": null,
      "outputs": [
        {
          "output_type": "stream",
          "name": "stdout",
          "text": [
            "64\n",
            "C0B7A8D05F3A829C\n"
          ]
        }
      ]
    },
    {
      "cell_type": "code",
      "metadata": {
        "colab": {
          "base_uri": "https://localhost:8080/"
        },
        "id": "Xdk6NmAxOTRi",
        "outputId": "cdda5e7e-63e2-401f-df24-82290b137ded"
      },
      "source": [
        "#Decryption\n",
        "\n",
        "def DESDecryption(text,key):\n",
        "  text=initalPermutation(text)\n",
        "  Rounded_keys=KeyGeneration(key)\n",
        "  left_part=text[:32]\n",
        "  right_part=text[32:]\n",
        "  for i in range(16):\n",
        "    value=DESfunction(right_part,Rounded_keys[15-i])\n",
        "    left_part=xor(left_part,value)\n",
        "    if i!=15:\n",
        "      left_part,right_part=right_part,left_part\n",
        "    print(bin2hex(\"\".join(left_part)),bin2hex(\"\".join(right_part)),bin2hex(\"\".join(Rounded_keys[i])))\n",
        "  text=left_part+right_part\n",
        "  text=FinalPermutation(text)\n",
        "  return text\n",
        "decrypted_text=DESDecryption(ciper,key)\n",
        "print(len(decrypted_text))\n",
        "print(bin2hex(\"\".join(decrypted_text)))"
      ],
      "execution_count": null,
      "outputs": [
        {
          "output_type": "stream",
          "name": "stdout",
          "text": [
            "CF26B472 BD2DD2AB 194CD072DE8C\n",
            "BD2DD2AB 387CCDAA 4568581ABCCE\n",
            "387CCDAA 22A5963B 06EDA4ACF5B5\n",
            "22A5963B FF3C485F DA2D032B6EE3\n",
            "FF3C485F 6CA6CB20 69A629FEC913\n",
            "6CA6CB20 10AF9D37 C1948E87475E\n",
            "10AF9D37 308BEE97 708AD2DDB3C0\n",
            "308BEE97 A9FC20A3 34F822F0C66D\n",
            "A9FC20A3 2E8F9C65 84BB4473DCCC\n",
            "2E8F9C65 A15A4B87 02765708B5BF\n",
            "A15A4B87 236779C2 6D5560AF7CA5\n",
            "236779C2 B8089591 C2C1E96A4BF3\n",
            "B8089591 4A1210F6 99C31397C91F\n",
            "4A1210F6 5A78E394 251B8BC717D0\n",
            "5A78E394 18CA18AD 3330C5D9A36D\n",
            "14A7D678 18CA18AD 181C5D75C66D\n",
            "64\n",
            "123456ABCD132536\n"
          ]
        }
      ]
    },
    {
      "cell_type": "code",
      "metadata": {
        "colab": {
          "base_uri": "https://localhost:8080/"
        },
        "id": "IENJ4zqMaR6u",
        "outputId": "b5249d73-052d-499f-9e01-a1bca9fc53bf"
      },
      "source": [
        "key='0101010101010101'\n",
        "key = list(hex2bin(key))\n",
        "ciper=Encryption(text,key)\n",
        "print(ciper)\n",
        "print(bin2hex(\"\".join(ciper)))"
      ],
      "execution_count": null,
      "outputs": [
        {
          "output_type": "stream",
          "name": "stdout",
          "text": [
            "18CA18AD 671E37B8 000000000000\n",
            "671E37B8 2A7A1FFA 000000000000\n",
            "2A7A1FFA 9E4C9437 000000000000\n",
            "9E4C9437 C6CE11DD 000000000000\n",
            "C6CE11DD 9F61AB15 000000000000\n",
            "9F61AB15 8A545383 000000000000\n",
            "8A545383 C2613FDA 000000000000\n",
            "C2613FDA 3659EE4D 000000000000\n",
            "3659EE4D E2FC4FC2 000000000000\n",
            "E2FC4FC2 AA5DF67D 000000000000\n",
            "AA5DF67D 33B95169 000000000000\n",
            "33B95169 17F9BA70 000000000000\n",
            "17F9BA70 50AAC840 000000000000\n",
            "50AAC840 392074C3 000000000000\n",
            "392074C3 C2F7FAE0 000000000000\n",
            "1930D911 C2F7FAE0 000000000000\n",
            "['0', '1', '1', '0', '0', '1', '0', '1', '1', '0', '1', '0', '1', '0', '0', '0', '0', '0', '1', '0', '0', '0', '0', '0', '0', '1', '0', '0', '1', '1', '0', '0', '0', '1', '1', '1', '1', '1', '0', '1', '0', '0', '1', '1', '1', '0', '1', '0', '1', '0', '1', '0', '1', '1', '1', '0', '1', '0', '1', '0', '1', '1', '1', '0']\n",
            "65A8204C7D3AAEAE\n"
          ]
        }
      ]
    },
    {
      "cell_type": "markdown",
      "metadata": {
        "id": "xN3cAqWEPqwj"
      },
      "source": [
        "## **Triple** **DES**"
      ]
    },
    {
      "cell_type": "code",
      "metadata": {
        "colab": {
          "base_uri": "https://localhost:8080/"
        },
        "id": "eN64YkJ2PlDo",
        "outputId": "e784f910-efe9-49e2-ce09-47a736953476"
      },
      "source": [
        "#encryption\n",
        "key=['0123456789ABCDEF','FEDCBA9876543210','89ABCDEF01234567']\n",
        "plaintext=\"123456ABCD132536\"\n",
        "plaintext = list(hex2bin(plaintext))\n",
        "keys=[]\n",
        "for i in key:\n",
        "  keys.append(list(hex2bin(i)))\n",
        "round1=Encryption(plaintext,keys[0])\n",
        "round2=Decryption(round1,keys[1])\n",
        "round3=Encryption(round2,keys[2])\n",
        "print(\"\".join(bin2hex(round3)))"
      ],
      "execution_count": null,
      "outputs": [
        {
          "output_type": "stream",
          "name": "stdout",
          "text": [
            "18CA18AD 5B310C72 0B02679B49A5\n",
            "5B310C72 8B114B3C 69A659256A26\n",
            "8B114B3C 1797BB36 45D48AB428D2\n",
            "1797BB36 EC60A50E 7289D2A58257\n",
            "EC60A50E B129C96A 3CE80317A6C2\n",
            "B129C96A C44F4704 23251E3C8545\n",
            "C44F4704 46FD7A1C 6C04950AE4C6\n",
            "46FD7A1C 17583C5E 5788386CE581\n",
            "17583C5E 8A60D3A8 C0C9E926B839\n",
            "8A60D3A8 D6047750 91E307631D72\n",
            "D6047750 759FC1DD 211F830D893A\n",
            "759FC1DD F28EA61C 7130E5455C54\n",
            "F28EA61C 5D2FEBFD 91C4D04980FC\n",
            "5D2FEBFD B5E6E74C 5443B681DC8D\n",
            "B5E6E74C 621CABDD B691050A16B5\n",
            "B1A0216A 621CABDD CA3D03B87032\n",
            "621CABDD 214DA73C F4FD9864B65A\n",
            "214DA73C A4DB2EFC 9659A6DA95D9\n",
            "A4DB2EFC 15169EF1 BA2B754BD72D\n",
            "15169EF1 61645C24 8D762D5A7DA8\n",
            "61645C24 005274FB C317FCE8593D\n",
            "005274FB D8A51A46 DCDAE1C37ABA\n",
            "D8A51A46 9ADE9AD2 93FB6AF51B39\n",
            "9ADE9AD2 1FA8165B A877C7931A7E\n",
            "1FA8165B BF656936 3F3616D947C6\n",
            "BF656936 4A4B7D11 6E1CF89CE28D\n",
            "4A4B7D11 6D30C7C1 DEE07CF276C5\n",
            "6D30C7C1 063122C7 8ECF1ABAA3AB\n",
            "063122C7 DCC808CA 6E3B2FB67F03\n",
            "DCC808CA 1C3B6CE8 ABBC497E2372\n",
            "1C3B6CE8 316268C2 496EFAF5E94A\n",
            "3E085451 316268C2 35C2FC478FCD\n",
            "316268C2 D0329450 04437693958D\n",
            "D0329450 9DF2F375 66E7502D360E\n",
            "9DF2F375 FC3D514D 4ED5033C70E2\n",
            "FC3D514D 5E0A9F44 6B815B24C867\n",
            "5E0A9F44 5BCCE708 2DC08B86ACD2\n",
            "5BCCE708 390A571D 33099AAD8751\n",
            "390A571D E41F0FF6 3C28911BC642\n",
            "E41F0FF6 5FCF223B 172C1C5CC504\n",
            "5FCF223B 5BCC3755 006DCD1498BC\n",
            "5BCC3755 6601E789 516525413CF1\n",
            "6601E789 339B0254 C18DA12BA839\n",
            "339B0254 3BA9521D D1A2A7235D16\n",
            "3BA9521D 9D984C59 B196820D01B6\n",
            "9D984C59 F79C88B6 7012E6C548C5\n",
            "F79C88B6 5834DC80 B0D0544282DD\n",
            "43609A2A 5834DC80 C47C52F0A41A\n",
            "4045288DAC31D80E\n"
          ]
        }
      ]
    },
    {
      "cell_type": "code",
      "metadata": {
        "colab": {
          "base_uri": "https://localhost:8080/"
        },
        "id": "e_vJDPI-VBmE",
        "outputId": "19c8acaa-827a-4161-c770-26d6f25468df"
      },
      "source": [
        "#Decryption\n",
        "round1=Decryption(round3,keys[2])\n",
        "round2=Encryption(round1,keys[1])\n",
        "plain=Decryption(round2,keys[0])\n",
        "print(\"\".join(bin2hex(plain)))"
      ],
      "execution_count": null,
      "outputs": [
        {
          "output_type": "stream",
          "name": "stdout",
          "text": [
            "5834DC80 F79C88B6 04437693958D\n",
            "F79C88B6 9D984C59 66E7502D360E\n",
            "9D984C59 3BA9521D 4ED5033C70E2\n",
            "3BA9521D 339B0254 6B815B24C867\n",
            "339B0254 6601E789 2DC08B86ACD2\n",
            "6601E789 5BCC3755 33099AAD8751\n",
            "5BCC3755 5FCF223B 3C28911BC642\n",
            "5FCF223B E41F0FF6 172C1C5CC504\n",
            "E41F0FF6 390A571D 006DCD1498BC\n",
            "390A571D 5BCCE708 516525413CF1\n",
            "5BCCE708 5E0A9F44 C18DA12BA839\n",
            "5E0A9F44 FC3D514D D1A2A7235D16\n",
            "FC3D514D 9DF2F375 B196820D01B6\n",
            "9DF2F375 D0329450 7012E6C548C5\n",
            "D0329450 316268C2 B0D0544282DD\n",
            "3E085451 316268C2 C47C52F0A41A\n",
            "316268C2 1C3B6CE8 F4FD9864B65A\n",
            "1C3B6CE8 DCC808CA 9659A6DA95D9\n",
            "DCC808CA 063122C7 BA2B754BD72D\n",
            "063122C7 6D30C7C1 8D762D5A7DA8\n",
            "6D30C7C1 4A4B7D11 C317FCE8593D\n",
            "4A4B7D11 BF656936 DCDAE1C37ABA\n",
            "BF656936 1FA8165B 93FB6AF51B39\n",
            "1FA8165B 9ADE9AD2 A877C7931A7E\n",
            "9ADE9AD2 D8A51A46 3F3616D947C6\n",
            "D8A51A46 005274FB 6E1CF89CE28D\n",
            "005274FB 61645C24 DEE07CF276C5\n",
            "61645C24 15169EF1 8ECF1ABAA3AB\n",
            "15169EF1 A4DB2EFC 6E3B2FB67F03\n",
            "A4DB2EFC 214DA73C ABBC497E2372\n",
            "214DA73C 621CABDD 496EFAF5E94A\n",
            "B1A0216A 621CABDD 35C2FC478FCD\n",
            "621CABDD B5E6E74C 0B02679B49A5\n",
            "B5E6E74C 5D2FEBFD 69A659256A26\n",
            "5D2FEBFD F28EA61C 45D48AB428D2\n",
            "F28EA61C 759FC1DD 7289D2A58257\n",
            "759FC1DD D6047750 3CE80317A6C2\n",
            "D6047750 8A60D3A8 23251E3C8545\n",
            "8A60D3A8 17583C5E 6C04950AE4C6\n",
            "17583C5E 46FD7A1C 5788386CE581\n",
            "46FD7A1C C44F4704 C0C9E926B839\n",
            "C44F4704 B129C96A 91E307631D72\n",
            "B129C96A EC60A50E 211F830D893A\n",
            "EC60A50E 1797BB36 7130E5455C54\n",
            "1797BB36 8B114B3C 91C4D04980FC\n",
            "8B114B3C 5B310C72 5443B681DC8D\n",
            "5B310C72 18CA18AD B691050A16B5\n",
            "14A7D678 18CA18AD CA3D03B87032\n",
            "123456ABCD132536\n"
          ]
        }
      ]
    },
    {
      "cell_type": "code",
      "metadata": {
        "id": "VmEj9uRBVdIY"
      },
      "source": [
        ""
      ],
      "execution_count": null,
      "outputs": []
    },
    {
      "cell_type": "markdown",
      "metadata": {
        "id": "ib9I0FUY9bFB"
      },
      "source": [
        "## AES"
      ]
    },
    {
      "cell_type": "code",
      "metadata": {
        "colab": {
          "base_uri": "https://localhost:8080/"
        },
        "id": "Nk958cem-GPS",
        "outputId": "51f15849-2428-49ee-d73c-a01d56ee9701"
      },
      "source": [
        "#Key \n",
        "Rcon = [0x8d, 0x01, 0x02, 0x04, 0x08, 0x10, 0x20, 0x40, 0x80, 0x1b, 0x36, 0x6c, 0xd8, 0xab, 0x4d, 0x9a ]\n",
        "Sbox = [\n",
        "            0x63, 0x7C, 0x77, 0x7B, 0xF2, 0x6B, 0x6F, 0xC5, 0x30, 0x01, 0x67, 0x2B, 0xFE, 0xD7, 0xAB, 0x76,\n",
        "            0xCA, 0x82, 0xC9, 0x7D, 0xFA, 0x59, 0x47, 0xF0, 0xAD, 0xD4, 0xA2, 0xAF, 0x9C, 0xA4, 0x72, 0xC0,\n",
        "            0xB7, 0xFD, 0x93, 0x26, 0x36, 0x3F, 0xF7, 0xCC, 0x34, 0xA5, 0xE5, 0xF1, 0x71, 0xD8, 0x31, 0x15,\n",
        "            0x04, 0xC7, 0x23, 0xC3, 0x18, 0x96, 0x05, 0x9A, 0x07, 0x12, 0x80, 0xE2, 0xEB, 0x27, 0xB2, 0x75,\n",
        "            0x09, 0x83, 0x2C, 0x1A, 0x1B, 0x6E, 0x5A, 0xA0, 0x52, 0x3B, 0xD6, 0xB3, 0x29, 0xE3, 0x2F, 0x84,\n",
        "            0x53, 0xD1, 0x00, 0xED, 0x20, 0xFC, 0xB1, 0x5B, 0x6A, 0xCB, 0xBE, 0x39, 0x4A, 0x4C, 0x58, 0xCF,\n",
        "            0xD0, 0xEF, 0xAA, 0xFB, 0x43, 0x4D, 0x33, 0x85, 0x45, 0xF9, 0x02, 0x7F, 0x50, 0x3C, 0x9F, 0xA8,\n",
        "            0x51, 0xA3, 0x40, 0x8F, 0x92, 0x9D, 0x38, 0xF5, 0xBC, 0xB6, 0xDA, 0x21, 0x10, 0xFF, 0xF3, 0xD2,\n",
        "            0xCD, 0x0C, 0x13, 0xEC, 0x5F, 0x97, 0x44, 0x17, 0xC4, 0xA7, 0x7E, 0x3D, 0x64, 0x5D, 0x19, 0x73,\n",
        "            0x60, 0x81, 0x4F, 0xDC, 0x22, 0x2A, 0x90, 0x88, 0x46, 0xEE, 0xB8, 0x14, 0xDE, 0x5E, 0x0B, 0xDB,\n",
        "            0xE0, 0x32, 0x3A, 0x0A, 0x49, 0x06, 0x24, 0x5C, 0xC2, 0xD3, 0xAC, 0x62, 0x91, 0x95, 0xE4, 0x79,\n",
        "            0xE7, 0xC8, 0x37, 0x6D, 0x8D, 0xD5, 0x4E, 0xA9, 0x6C, 0x56, 0xF4, 0xEA, 0x65, 0x7A, 0xAE, 0x08,\n",
        "            0xBA, 0x78, 0x25, 0x2E, 0x1C, 0xA6, 0xB4, 0xC6, 0xE8, 0xDD, 0x74, 0x1F, 0x4B, 0xBD, 0x8B, 0x8A,\n",
        "            0x70, 0x3E, 0xB5, 0x66, 0x48, 0x03, 0xF6, 0x0E, 0x61, 0x35, 0x57, 0xB9, 0x86, 0xC1, 0x1D, 0x9E,\n",
        "            0xE1, 0xF8, 0x98, 0x11, 0x69, 0xD9, 0x8E, 0x94, 0x9B, 0x1E, 0x87, 0xE9, 0xCE, 0x55, 0x28, 0xDF,\n",
        "            0x8C, 0xA1, 0x89, 0x0D, 0xBF, 0xE6, 0x42, 0x68, 0x41, 0x99, 0x2D, 0x0F, 0xB0, 0x54, 0xBB, 0x16\n",
        "    ]\n",
        "Sbox_inv = [\n",
        "            0x52, 0x09, 0x6A, 0xD5, 0x30, 0x36, 0xA5, 0x38, 0xBF, 0x40, 0xA3, 0x9E, 0x81, 0xF3, 0xD7, 0xFB,\n",
        "            0x7C, 0xE3, 0x39, 0x82, 0x9B, 0x2F, 0xFF, 0x87, 0x34, 0x8E, 0x43, 0x44, 0xC4, 0xDE, 0xE9, 0xCB,\n",
        "            0x54, 0x7B, 0x94, 0x32, 0xA6, 0xC2, 0x23, 0x3D, 0xEE, 0x4C, 0x95, 0x0B, 0x42, 0xFA, 0xC3, 0x4E,\n",
        "            0x08, 0x2E, 0xA1, 0x66, 0x28, 0xD9, 0x24, 0xB2, 0x76, 0x5B, 0xA2, 0x49, 0x6D, 0x8B, 0xD1, 0x25,\n",
        "            0x72, 0xF8, 0xF6, 0x64, 0x86, 0x68, 0x98, 0x16, 0xD4, 0xA4, 0x5C, 0xCC, 0x5D, 0x65, 0xB6, 0x92,\n",
        "            0x6C, 0x70, 0x48, 0x50, 0xFD, 0xED, 0xB9, 0xDA, 0x5E, 0x15, 0x46, 0x57, 0xA7, 0x8D, 0x9D, 0x84,\n",
        "            0x90, 0xD8, 0xAB, 0x00, 0x8C, 0xBC, 0xD3, 0x0A, 0xF7, 0xE4, 0x58, 0x05, 0xB8, 0xB3, 0x45, 0x06,\n",
        "            0xD0, 0x2C, 0x1E, 0x8F, 0xCA, 0x3F, 0x0F, 0x02, 0xC1, 0xAF, 0xBD, 0x03, 0x01, 0x13, 0x8A, 0x6B,\n",
        "            0x3A, 0x91, 0x11, 0x41, 0x4F, 0x67, 0xDC, 0xEA, 0x97, 0xF2, 0xCF, 0xCE, 0xF0, 0xB4, 0xE6, 0x73,\n",
        "            0x96, 0xAC, 0x74, 0x22, 0xE7, 0xAD, 0x35, 0x85, 0xE2, 0xF9, 0x37, 0xE8, 0x1C, 0x75, 0xDF, 0x6E,\n",
        "            0x47, 0xF1, 0x1A, 0x71, 0x1D, 0x29, 0xC5, 0x89, 0x6F, 0xB7, 0x62, 0x0E, 0xAA, 0x18, 0xBE, 0x1B,\n",
        "            0xFC, 0x56, 0x3E, 0x4B, 0xC6, 0xD2, 0x79, 0x20, 0x9A, 0xDB, 0xC0, 0xFE, 0x78, 0xCD, 0x5A, 0xF4,\n",
        "            0x1F, 0xDD, 0xA8, 0x33, 0x88, 0x07, 0xC7, 0x31, 0xB1, 0x12, 0x10, 0x59, 0x27, 0x80, 0xEC, 0x5F,\n",
        "            0x60, 0x51, 0x7F, 0xA9, 0x19, 0xB5, 0x4A, 0x0D, 0x2D, 0xE5, 0x7A, 0x9F, 0x93, 0xC9, 0x9C, 0xEF,\n",
        "            0xA0, 0xE0, 0x3B, 0x4D, 0xAE, 0x2A, 0xF5, 0xB0, 0xC8, 0xEB, 0xBB, 0x3C, 0x83, 0x53, 0x99, 0x61,\n",
        "            0x17, 0x2B, 0x04, 0x7E, 0xBA, 0x77, 0xD6, 0x26, 0xE1, 0x69, 0x14, 0x63, 0x55, 0x21, 0x0C, 0x7D\n",
        "    ]\n",
        "\n",
        "def Rootword(Key):\n",
        "  new=[]\n",
        "  for i in range(len(Key)):\n",
        "    new.append(Key[(i+1)%len(Key)])\n",
        "  return new\n",
        "def Subword(Key):\n",
        "  new=[]\n",
        "  for i in Key:\n",
        "    new.append(Sbox[i])\n",
        "  return new\n",
        "\n"
      ],
      "execution_count": null,
      "outputs": [
        {
          "output_type": "stream",
          "name": "stdout",
          "text": [
            "0x0,0x1\n"
          ]
        }
      ]
    },
    {
      "cell_type": "code",
      "metadata": {
        "colab": {
          "base_uri": "https://localhost:8080/"
        },
        "id": "TOEkcn_kQW7W",
        "outputId": "ea9bd316-10af-4ea5-ce86-07e22d78f286"
      },
      "source": [
        "print(hex(0x78))"
      ],
      "execution_count": null,
      "outputs": [
        {
          "output_type": "stream",
          "name": "stdout",
          "text": [
            "0x78\n"
          ]
        }
      ]
    },
    {
      "cell_type": "code",
      "metadata": {
        "id": "lLgj7F-FUrkX"
      },
      "source": [
        ""
      ],
      "execution_count": null,
      "outputs": []
    },
    {
      "cell_type": "code",
      "metadata": {
        "id": "IgBZKvFeRfQg"
      },
      "source": [
        "Sbox = (\n",
        "    0x63, 0x7C, 0x77, 0x7B, 0xF2, 0x6B, 0x6F, 0xC5, 0x30, 0x01, 0x67, 0x2B, 0xFE, 0xD7, 0xAB, 0x76,\n",
        "    0xCA, 0x82, 0xC9, 0x7D, 0xFA, 0x59, 0x47, 0xF0, 0xAD, 0xD4, 0xA2, 0xAF, 0x9C, 0xA4, 0x72, 0xC0,\n",
        "    0xB7, 0xFD, 0x93, 0x26, 0x36, 0x3F, 0xF7, 0xCC, 0x34, 0xA5, 0xE5, 0xF1, 0x71, 0xD8, 0x31, 0x15,\n",
        "    0x04, 0xC7, 0x23, 0xC3, 0x18, 0x96, 0x05, 0x9A, 0x07, 0x12, 0x80, 0xE2, 0xEB, 0x27, 0xB2, 0x75,\n",
        "    0x09, 0x83, 0x2C, 0x1A, 0x1B, 0x6E, 0x5A, 0xA0, 0x52, 0x3B, 0xD6, 0xB3, 0x29, 0xE3, 0x2F, 0x84,\n",
        "    0x53, 0xD1, 0x00, 0xED, 0x20, 0xFC, 0xB1, 0x5B, 0x6A, 0xCB, 0xBE, 0x39, 0x4A, 0x4C, 0x58, 0xCF,\n",
        "    0xD0, 0xEF, 0xAA, 0xFB, 0x43, 0x4D, 0x33, 0x85, 0x45, 0xF9, 0x02, 0x7F, 0x50, 0x3C, 0x9F, 0xA8,\n",
        "    0x51, 0xA3, 0x40, 0x8F, 0x92, 0x9D, 0x38, 0xF5, 0xBC, 0xB6, 0xDA, 0x21, 0x10, 0xFF, 0xF3, 0xD2,\n",
        "    0xCD, 0x0C, 0x13, 0xEC, 0x5F, 0x97, 0x44, 0x17, 0xC4, 0xA7, 0x7E, 0x3D, 0x64, 0x5D, 0x19, 0x73,\n",
        "    0x60, 0x81, 0x4F, 0xDC, 0x22, 0x2A, 0x90, 0x88, 0x46, 0xEE, 0xB8, 0x14, 0xDE, 0x5E, 0x0B, 0xDB,\n",
        "    0xE0, 0x32, 0x3A, 0x0A, 0x49, 0x06, 0x24, 0x5C, 0xC2, 0xD3, 0xAC, 0x62, 0x91, 0x95, 0xE4, 0x79,\n",
        "    0xE7, 0xC8, 0x37, 0x6D, 0x8D, 0xD5, 0x4E, 0xA9, 0x6C, 0x56, 0xF4, 0xEA, 0x65, 0x7A, 0xAE, 0x08,\n",
        "    0xBA, 0x78, 0x25, 0x2E, 0x1C, 0xA6, 0xB4, 0xC6, 0xE8, 0xDD, 0x74, 0x1F, 0x4B, 0xBD, 0x8B, 0x8A,\n",
        "    0x70, 0x3E, 0xB5, 0x66, 0x48, 0x03, 0xF6, 0x0E, 0x61, 0x35, 0x57, 0xB9, 0x86, 0xC1, 0x1D, 0x9E,\n",
        "    0xE1, 0xF8, 0x98, 0x11, 0x69, 0xD9, 0x8E, 0x94, 0x9B, 0x1E, 0x87, 0xE9, 0xCE, 0x55, 0x28, 0xDF,\n",
        "    0x8C, 0xA1, 0x89, 0x0D, 0xBF, 0xE6, 0x42, 0x68, 0x41, 0x99, 0x2D, 0x0F, 0xB0, 0x54, 0xBB, 0x16,\n",
        ")\n",
        "\n",
        "InvSbox = (\n",
        "    0x52, 0x09, 0x6A, 0xD5, 0x30, 0x36, 0xA5, 0x38, 0xBF, 0x40, 0xA3, 0x9E, 0x81, 0xF3, 0xD7, 0xFB,\n",
        "    0x7C, 0xE3, 0x39, 0x82, 0x9B, 0x2F, 0xFF, 0x87, 0x34, 0x8E, 0x43, 0x44, 0xC4, 0xDE, 0xE9, 0xCB,\n",
        "    0x54, 0x7B, 0x94, 0x32, 0xA6, 0xC2, 0x23, 0x3D, 0xEE, 0x4C, 0x95, 0x0B, 0x42, 0xFA, 0xC3, 0x4E,\n",
        "    0x08, 0x2E, 0xA1, 0x66, 0x28, 0xD9, 0x24, 0xB2, 0x76, 0x5B, 0xA2, 0x49, 0x6D, 0x8B, 0xD1, 0x25,\n",
        "    0x72, 0xF8, 0xF6, 0x64, 0x86, 0x68, 0x98, 0x16, 0xD4, 0xA4, 0x5C, 0xCC, 0x5D, 0x65, 0xB6, 0x92,\n",
        "    0x6C, 0x70, 0x48, 0x50, 0xFD, 0xED, 0xB9, 0xDA, 0x5E, 0x15, 0x46, 0x57, 0xA7, 0x8D, 0x9D, 0x84,\n",
        "    0x90, 0xD8, 0xAB, 0x00, 0x8C, 0xBC, 0xD3, 0x0A, 0xF7, 0xE4, 0x58, 0x05, 0xB8, 0xB3, 0x45, 0x06,\n",
        "    0xD0, 0x2C, 0x1E, 0x8F, 0xCA, 0x3F, 0x0F, 0x02, 0xC1, 0xAF, 0xBD, 0x03, 0x01, 0x13, 0x8A, 0x6B,\n",
        "    0x3A, 0x91, 0x11, 0x41, 0x4F, 0x67, 0xDC, 0xEA, 0x97, 0xF2, 0xCF, 0xCE, 0xF0, 0xB4, 0xE6, 0x73,\n",
        "    0x96, 0xAC, 0x74, 0x22, 0xE7, 0xAD, 0x35, 0x85, 0xE2, 0xF9, 0x37, 0xE8, 0x1C, 0x75, 0xDF, 0x6E,\n",
        "    0x47, 0xF1, 0x1A, 0x71, 0x1D, 0x29, 0xC5, 0x89, 0x6F, 0xB7, 0x62, 0x0E, 0xAA, 0x18, 0xBE, 0x1B,\n",
        "    0xFC, 0x56, 0x3E, 0x4B, 0xC6, 0xD2, 0x79, 0x20, 0x9A, 0xDB, 0xC0, 0xFE, 0x78, 0xCD, 0x5A, 0xF4,\n",
        "    0x1F, 0xDD, 0xA8, 0x33, 0x88, 0x07, 0xC7, 0x31, 0xB1, 0x12, 0x10, 0x59, 0x27, 0x80, 0xEC, 0x5F,\n",
        "    0x60, 0x51, 0x7F, 0xA9, 0x19, 0xB5, 0x4A, 0x0D, 0x2D, 0xE5, 0x7A, 0x9F, 0x93, 0xC9, 0x9C, 0xEF,\n",
        "    0xA0, 0xE0, 0x3B, 0x4D, 0xAE, 0x2A, 0xF5, 0xB0, 0xC8, 0xEB, 0xBB, 0x3C, 0x83, 0x53, 0x99, 0x61,\n",
        "    0x17, 0x2B, 0x04, 0x7E, 0xBA, 0x77, 0xD6, 0x26, 0xE1, 0x69, 0x14, 0x63, 0x55, 0x21, 0x0C, 0x7D,\n",
        ")\n",
        "\n",
        "\n",
        "xtime = lambda a: (((a << 1) ^ 0x1B) & 0xFF) if (a & 0x80) else (a << 1)\n",
        "\n",
        "\n",
        "Rcon = (\n",
        "    0x00, 0x01, 0x02, 0x04, 0x08, 0x10, 0x20, 0x40,\n",
        "    0x80, 0x1B, 0x36, 0x6C, 0xD8, 0xAB, 0x4D, 0x9A,\n",
        "    0x2F, 0x5E, 0xBC, 0x63, 0xC6, 0x97, 0x35, 0x6A,\n",
        "    0xD4, 0xB3, 0x7D, 0xFA, 0xEF, 0xC5, 0x91, 0x39,\n",
        ")\n",
        "\n",
        "\n",
        "def text2matrix(text):\n",
        "    matrix = []\n",
        "    for i in range(16):\n",
        "        byte = (text >> (8 * (15 - i))) & 0xFF\n",
        "        if i % 4 == 0:\n",
        "            matrix.append([byte])\n",
        "        else:\n",
        "            matrix[int(i / 4)].append(byte)\n",
        "    return matrix\n",
        "\n",
        "\n",
        "def matrix2text(matrix):\n",
        "    text = 0\n",
        "    for i in range(4):\n",
        "        for j in range(4):\n",
        "            text |= (matrix[i][j] << (120 - 8 * (4 * i + j)))\n",
        "    return text\n",
        "\n",
        "\n",
        "class AES:\n",
        "    def __init__(self, master_key):\n",
        "        self.change_key(master_key)\n",
        "\n",
        "    def change_key(self, master_key):\n",
        "        self.round_keys = text2matrix(master_key)\n",
        "\n",
        "\n",
        "        for i in range(4, 4 * 11):\n",
        "            self.round_keys.append([])\n",
        "            if i % 4 == 0:\n",
        "                byte = self.round_keys[i - 4][0]        \\\n",
        "                     ^ Sbox[self.round_keys[i - 1][1]]  \\\n",
        "                     ^ Rcon[int(i / 4)]\n",
        "                self.round_keys[i].append(byte)\n",
        "\n",
        "                for j in range(1, 4):\n",
        "                    byte = self.round_keys[i - 4][j]    \\\n",
        "                         ^ Sbox[self.round_keys[i - 1][(j + 1) % 4]]\n",
        "                    self.round_keys[i].append(byte)\n",
        "            else:\n",
        "                for j in range(4):\n",
        "                    byte = self.round_keys[i - 4][j]    \\\n",
        "                         ^ self.round_keys[i - 1][j]\n",
        "                    self.round_keys[i].append(byte)\n",
        "\n",
        "\n",
        "\n",
        "    def encrypt(self, plaintext):\n",
        "        self.plain_state = text2matrix(plaintext)\n",
        "\n",
        "        self.__add_round_key(self.plain_state, self.round_keys[:4])\n",
        "\n",
        "        for i in range(1, 10):\n",
        "            self.__round_encrypt(self.plain_state, self.round_keys[4 * i : 4 * (i + 1)])\n",
        "\n",
        "        self.__sub_bytes(self.plain_state)\n",
        "        self.__shift_rows(self.plain_state)\n",
        "        self.__add_round_key(self.plain_state, self.round_keys[40:])\n",
        "\n",
        "        return matrix2text(self.plain_state)\n",
        "\n",
        "    def decrypt(self, ciphertext):\n",
        "        self.cipher_state = text2matrix(ciphertext)\n",
        "\n",
        "        self.__add_round_key(self.cipher_state, self.round_keys[40:])\n",
        "        self.__inv_shift_rows(self.cipher_state)\n",
        "        self.__inv_sub_bytes(self.cipher_state)\n",
        "\n",
        "        for i in range(9, 0, -1):\n",
        "            self.__round_decrypt(self.cipher_state, self.round_keys[4 * i : 4 * (i + 1)])\n",
        "\n",
        "        self.__add_round_key(self.cipher_state, self.round_keys[:4])\n",
        "\n",
        "        return matrix2text(self.cipher_state)\n",
        "\n",
        "    def __add_round_key(self, s, k):\n",
        "        for i in range(4):\n",
        "            for j in range(4):\n",
        "                s[i][j] ^= k[i][j]\n",
        "\n",
        "\n",
        "    def __round_encrypt(self, state_matrix, key_matrix):\n",
        "        self.__sub_bytes(state_matrix)\n",
        "        self.__shift_rows(state_matrix)\n",
        "        self.__mix_columns(state_matrix)\n",
        "        self.__add_round_key(state_matrix, key_matrix)\n",
        "\n",
        "\n",
        "    def __round_decrypt(self, state_matrix, key_matrix):\n",
        "        self.__add_round_key(state_matrix, key_matrix)\n",
        "        self.__inv_mix_columns(state_matrix)\n",
        "        self.__inv_shift_rows(state_matrix)\n",
        "        self.__inv_sub_bytes(state_matrix)\n",
        "\n",
        "    def __sub_bytes(self, s):\n",
        "        for i in range(4):\n",
        "            for j in range(4):\n",
        "                s[i][j] = Sbox[s[i][j]]\n",
        "\n",
        "\n",
        "    def __inv_sub_bytes(self, s):\n",
        "        for i in range(4):\n",
        "            for j in range(4):\n",
        "                s[i][j] = InvSbox[s[i][j]]\n",
        "\n",
        "\n",
        "    def __shift_rows(self, s):\n",
        "        s[0][1], s[1][1], s[2][1], s[3][1] = s[1][1], s[2][1], s[3][1], s[0][1]\n",
        "        s[0][2], s[1][2], s[2][2], s[3][2] = s[2][2], s[3][2], s[0][2], s[1][2]\n",
        "        s[0][3], s[1][3], s[2][3], s[3][3] = s[3][3], s[0][3], s[1][3], s[2][3]\n",
        "\n",
        "\n",
        "    def __inv_shift_rows(self, s):\n",
        "        s[0][1], s[1][1], s[2][1], s[3][1] = s[3][1], s[0][1], s[1][1], s[2][1]\n",
        "        s[0][2], s[1][2], s[2][2], s[3][2] = s[2][2], s[3][2], s[0][2], s[1][2]\n",
        "        s[0][3], s[1][3], s[2][3], s[3][3] = s[1][3], s[2][3], s[3][3], s[0][3]\n",
        "\n",
        "    def __mix_single_column(self, a):\n",
        "\n",
        "        t = a[0] ^ a[1] ^ a[2] ^ a[3]\n",
        "        u = a[0]\n",
        "        a[0] ^= t ^ xtime(a[0] ^ a[1])\n",
        "        a[1] ^= t ^ xtime(a[1] ^ a[2])\n",
        "        a[2] ^= t ^ xtime(a[2] ^ a[3])\n",
        "        a[3] ^= t ^ xtime(a[3] ^ u)\n",
        "\n",
        "\n",
        "    def __mix_columns(self, s):\n",
        "        for i in range(4):\n",
        "            self.__mix_single_column(s[i])\n",
        "\n",
        "\n",
        "    def __inv_mix_columns(self, s):\n",
        "\n",
        "        for i in range(4):\n",
        "            u = xtime(xtime(s[i][0] ^ s[i][2]))\n",
        "            v = xtime(xtime(s[i][1] ^ s[i][3]))\n",
        "            s[i][0] ^= u\n",
        "            s[i][1] ^= v\n",
        "            s[i][2] ^= u\n",
        "            s[i][3] ^= v\n",
        "\n",
        "        self.__mix_columns(s)\n",
        "\n",
        "master_key = 0x5468617473206d79204b756e67204675\n",
        "AES = AES(master_key)\n",
        "plaintext = 0x54776f204f6e65204e696e652054776f\n",
        "print(plaintext)\n",
        "encrypted = AES.encrypt(plaintext)\n",
        "print(encrypted)\n",
        "\n",
        "ciphertext = 0x29c3505f571420f6402299b31a02d73a\n",
        "decrypted = AES.decrypt(ciphertext)\n",
        "print(decrypted)\n",
        "\n"
      ],
      "execution_count": null,
      "outputs": []
    },
    {
      "cell_type": "markdown",
      "metadata": {
        "id": "0bLwpWFoCghx"
      },
      "source": [
        "## MODES"
      ]
    },
    {
      "cell_type": "markdown",
      "metadata": {
        "id": "Tfzk5iX_GN31"
      },
      "source": [
        "DES using ECB"
      ]
    },
    {
      "cell_type": "code",
      "metadata": {
        "id": "F_yqk8r1Cjqo"
      },
      "source": [
        "#DES using ECB\n",
        "def ECB(text,key):\n",
        "  #Encryption\n",
        "  n=16\n",
        "  text = list(hex2bin(text))\n",
        "  key = list(hex2bin(key))\n",
        "  cipher=[]\n",
        "  for i in range(0,len(text),64):\n",
        "    print(\"--------------------------------------------\")\n",
        "    c=DESEncryption(text[i:i+64],key)\n",
        "    cipher.extend(c)\n",
        "  print(len(cipher))\n",
        "  #Decryption\n",
        "  decrypted_text=[]\n",
        "  for i in range(0,len(cipher),64):\n",
        "    print(\"--------------------------------------------\")\n",
        "    detext=DESDecryption(cipher[i:i+64],key)\n",
        "    decrypted_text.extend(detext)\n",
        "  \n",
        "  print(bin2hex(\"\".join(decrypted_text)))\n",
        "\n",
        "\n",
        "\n",
        "\n",
        "text = \"123456ABCD132536123456ABCD132536123456ABCD132536123456ABCD132536123456ABCD132536\"\n",
        "key = \"AABB09182736CCDD\"\n",
        "ECB(text,key)\n",
        "\n",
        "\n",
        "\n"
      ],
      "execution_count": null,
      "outputs": []
    },
    {
      "cell_type": "markdown",
      "metadata": {
        "id": "T1qqebeNGWKF"
      },
      "source": [
        "DES using CFB"
      ]
    },
    {
      "cell_type": "code",
      "metadata": {
        "id": "A2SMQvDMGbsi"
      },
      "source": [
        "def CFB(text,key):\n",
        "  #Encryption\n",
        "  IV=\"1234567890ABCDEF\"\n",
        "  IV=list(hex2bin(IV))\n",
        "  key = list(hex2bin(key))\n",
        "  text = list(hex2bin(text))\n",
        "  cipher=[]\n",
        "  for i in range(0,len(text),32):\n",
        "    c=DESEncryption(IV,key)\n",
        "    c=xor(c[0:32],text[i:i+32])\n",
        "    cipher.extend(c)\n",
        "    IV=Shift_left(IV,32)\n",
        "    print(\"------------------------------------------\")\n",
        "    IV[32:] = c\n",
        "  print(cipher)\n",
        "  print(bin2hex(\"\".join(ciper)))\n",
        "  #decryption\n",
        "  IV=\"1234567890ABCDEF\"\n",
        "  IV=list(hex2bin(IV))\n",
        "  decrypted_text=[]\n",
        "  for i in range(0,len(cipher),32):\n",
        "    c=DESEncryption(IV,key)\n",
        "    c=xor(c[0:32],cipher[i:i+32])\n",
        "    decrypted_text.extend(c)\n",
        "    IV=Shift_left(IV,32)\n",
        "    print(\"------------------------------------------\")\n",
        "    IV[32:] = cipher[i:i+32]\n",
        "  print(decrypted_text)\n",
        "  print(bin2hex(\"\".join(decrypted_text)))\n",
        "\n",
        "\n",
        "text = \"123456ABCD132536\"\n",
        "key = \"AABB09182736CCDD\"\n",
        "CFB(text,key)\n",
        "\n"
      ],
      "execution_count": null,
      "outputs": []
    },
    {
      "cell_type": "markdown",
      "metadata": {
        "id": "HofaI0nVN73i"
      },
      "source": [
        "AES using CBC"
      ]
    },
    {
      "cell_type": "code",
      "metadata": {
        "colab": {
          "base_uri": "https://localhost:8080/"
        },
        "id": "B0QMtuziOCAV",
        "outputId": "b406fa3c-a1e3-40ec-e011-3569ec5bac14"
      },
      "source": [
        "def CBC(plaintext,key):\n",
        "  #encrypt\n",
        "  AES1 = AES(key)\n",
        "  cipher=[]\n",
        "  IV= 0x000102030405060708090a0b0c0d0e0f\n",
        "  for i in range(3):\n",
        "    a=plaintext[i]^IV\n",
        "    encrypted = AES1.encrypt(a)\n",
        "    cipher.append(encrypted)\n",
        "    IV=encrypted\n",
        "  print(cipher)\n",
        "  #decrypt\n",
        "  txt=[]\n",
        "  IV= 0x000102030405060708090a0b0c0d0e0f\n",
        "  for i in range(len(cipher)):\n",
        "    decrypted = AES1.decrypt(cipher[i])\n",
        "    a=decrypted^IV\n",
        "    txt.append(a)\n",
        "    IV=cipher[i]\n",
        "  print(txt)\n",
        "\n",
        "\n",
        "\n",
        "key = 0x5468617473206d79204b756e67204675\n",
        "\n",
        "plaintext =[  0x54776f204f6e65204e696e652054776f, 0x54776f204f6e65204e696e652054776f, 0x54776f204f6e65204e696e652054776f]\n",
        "print(plaintext)\n",
        "CBC(plaintext,key)\n",
        "\n",
        "\n",
        "# ciphertext = 0x29c3505f571420f6402299b31a02d73a\n",
        "# decrypted = AES.decrypt(ciphertext)\n",
        "# print(decrypted)"
      ],
      "execution_count": null,
      "outputs": [
        {
          "output_type": "stream",
          "name": "stdout",
          "text": [
            "[112275288879448558774595401684499068783, 112275288879448558774595401684499068783, 112275288879448558774595401684499068783]\n",
            "[151524205134078873633299309225422016970, 332212761988560564310889015741966452165, 324084392201278674267936149665321229161]\n",
            "[112275288879448558774595401684499068783, 112275288879448558774595401684499068783, 112275288879448558774595401684499068783]\n"
          ]
        }
      ]
    },
    {
      "cell_type": "markdown",
      "metadata": {
        "id": "g4qA6fXaUd9_"
      },
      "source": [
        "AES using countermode"
      ]
    },
    {
      "cell_type": "code",
      "metadata": {
        "colab": {
          "base_uri": "https://localhost:8080/"
        },
        "id": "cxEyMg3qUrnX",
        "outputId": "2f17a687-3426-4f3f-fb5f-1cf2fc9229c6"
      },
      "source": [
        "def Counter(text,key):\n",
        "  #encryption\n",
        "  AES1 = AES(key)\n",
        "  cipher=[]\n",
        "  IV= 0x000102030405060708090a0b0c0d0e0f\n",
        "  for i in range(3):\n",
        "    a= AES1.encrypt(IV)\n",
        "    IV+=1\n",
        "    encrypted=a^text[i]\n",
        "    cipher.append(encrypted)\n",
        "  print(cipher)\n",
        "  #decryption\n",
        "  txt=[]\n",
        "  IV= 0x000102030405060708090a0b0c0d0e0f\n",
        "  for i in range(3):\n",
        "    a= AES1.encrypt(IV)\n",
        "    IV+=1\n",
        "    decrypted=a^cipher[i]\n",
        "    txt.append(decrypted)\n",
        "  print(txt)\n",
        "key = 0x5468617473206d79204b756e67204675\n",
        "\n",
        "plaintext =[  0x54776f204f6e65204e696e652054776f, 0x54776f204f6e65204e696e652054776f, 0x54776f204f6e65204e696e652054776f]\n",
        "print(plaintext)\n",
        "Counter(plaintext,key)\n",
        "\n"
      ],
      "execution_count": null,
      "outputs": [
        {
          "output_type": "stream",
          "name": "stdout",
          "text": [
            "[112275288879448558774595401684499068783, 112275288879448558774595401684499068783, 112275288879448558774595401684499068783]\n",
            "[141709457218390772149007898105752642755, 131380677990917132798453793500406713921, 189145432946759933481424297371344553534]\n",
            "[112275288879448558774595401684499068783, 112275288879448558774595401684499068783, 112275288879448558774595401684499068783]\n"
          ]
        }
      ]
    },
    {
      "cell_type": "markdown",
      "metadata": {
        "id": "LWvdwjxNDhMn"
      },
      "source": [
        "## Elliptic Curve"
      ]
    },
    {
      "cell_type": "code",
      "metadata": {
        "colab": {
          "base_uri": "https://localhost:8080/"
        },
        "id": "UmfgAD_9DgHL",
        "outputId": "755938a2-3934-4a90-ca20-3224ff51dc81"
      },
      "source": [
        "# y^2=x^3+2^x+2 mod 17\n",
        "# BaseP=(5,1)\n",
        "p=[5,1]\n",
        "a=2\n",
        "n=17\n",
        "def inv(a,n):\n",
        "  a=a%n\n",
        "\n",
        "  for i in range(1,n):\n",
        "    if (a*i)%n==1:\n",
        "      return i\n",
        "  return -1\n",
        "\n",
        "def pointsum(q,p):\n",
        "  s=(q[1]-p[1])*inv(q[0]-p[0],n)\n",
        "  s=s%n\n",
        "  #print(s,inv(q[0]-p[0],n))\n",
        "  x=(s**2)-q[0]-p[0]\n",
        "  x=x%n\n",
        "  y=s*(q[0]-x)-q[1]\n",
        "  y=y%n\n",
        "  l=[x,y]\n",
        "  return l\n",
        "def double(p):\n",
        "  s=(3*p[0]*p[0]+a)*inv(2*p[1],n)\n",
        "  s=s%17\n",
        "  #print(s,inv(2*p[1],n))\n",
        "  x=(s**2)-p[0]-p[0]\n",
        "  x=x%n\n",
        "  y=s*(p[0]-x)-p[1]\n",
        "  y=y%n\n",
        "  l=[x,y]\n",
        "  print(l)\n",
        "  return l\n",
        "q=double(p)\n",
        "for i in range(3,20):\n",
        "  q=pointsum(q,p)\n",
        "  print(i,q)\n"
      ],
      "execution_count": null,
      "outputs": [
        {
          "output_type": "stream",
          "name": "stdout",
          "text": [
            "[6, 3]\n",
            "3 [10, 6]\n",
            "4 [3, 1]\n",
            "5 [9, 16]\n",
            "6 [16, 13]\n",
            "7 [0, 6]\n",
            "8 [13, 7]\n",
            "9 [7, 6]\n",
            "10 [7, 11]\n",
            "11 [13, 10]\n",
            "12 [0, 11]\n",
            "13 [16, 4]\n",
            "14 [9, 1]\n",
            "15 [3, 16]\n",
            "16 [10, 11]\n",
            "17 [6, 14]\n",
            "18 [5, 16]\n",
            "19 [11, 6]\n"
          ]
        }
      ]
    },
    {
      "cell_type": "markdown",
      "metadata": {
        "id": "3OR21Pj3EeIu"
      },
      "source": [
        "Man in the middile attack\n"
      ]
    },
    {
      "cell_type": "code",
      "metadata": {
        "colab": {
          "base_uri": "https://localhost:8080/"
        },
        "id": "31jz5KZuEmj3",
        "outputId": "ff1abf21-c6be-4989-f2b4-06cc6ab171c0"
      },
      "source": [
        "#Generator picker function\n",
        "import random\n",
        "def fun(p):  \n",
        "  rl=[]\n",
        "  for n in range(2,p):\n",
        "    li=[]\n",
        "    for i in range(1,p):\n",
        "      li.append(n**i%p)\n",
        "    res=set(li)\n",
        "    if len(res)==p-1:\n",
        "      rl.append(n)\n",
        "  return rl\n",
        "gen_lis=fun(23)\n",
        "gen_lis\n",
        "g=gen_lis[random.randint(0,len(gen_lis)-1)]\n",
        "g\n",
        "a=random.randint(1,9)\n",
        "b=random.randint(1,9)\n",
        "A=(g**a)%23\n",
        "B=(g**b)%23\n",
        "\n",
        "k1=(A**b)%23\n",
        "k2=(B**a)%23\n",
        "\n",
        "print(k1,k2)\n",
        "if k1==k2:\n",
        "  print(\"The public key is shared succesfully using Diffie-Hellman sharing protocol\")"
      ],
      "execution_count": null,
      "outputs": [
        {
          "output_type": "stream",
          "name": "stdout",
          "text": [
            "19 19\n",
            "The public key is shared succesfully using Diffie-Hellman sharing protocol\n"
          ]
        }
      ]
    },
    {
      "cell_type": "code",
      "metadata": {
        "id": "28a0SXvWEhda"
      },
      "source": [
        "#Alice\n",
        "a=random.randint(1,9)\n",
        "A=(g**a)%23"
      ],
      "execution_count": null,
      "outputs": []
    },
    {
      "cell_type": "markdown",
      "metadata": {
        "id": "-JTr098fzTGo"
      },
      "source": [
        "### **Signature Algorithm**\n",
        "\n",
        "\n"
      ]
    },
    {
      "cell_type": "markdown",
      "metadata": {
        "id": "F1n9tSwjzz7Q"
      },
      "source": [
        "RES "
      ]
    },
    {
      "cell_type": "code",
      "metadata": {
        "id": "Zvp4xRAmGtp1",
        "colab": {
          "base_uri": "https://localhost:8080/"
        },
        "outputId": "afd9860c-6914-474c-c9e6-d966a789d04b"
      },
      "source": [
        "#RES SIGNATURE ALGO\n",
        "#Generating public key\n",
        "import random\n",
        "p=53\n",
        "q=59\n",
        "n=p*q\n",
        "phi=(p-1)*(q-1)\n",
        "print(n,phi)\n",
        "e=3\n",
        "#Generating private key\n",
        "k=2\n",
        "d=int((k*phi+1)/e)\n",
        "d #private key\n",
        "#Encryption\n",
        "import math\n",
        "s=input(\"Enter the string to be encrypted using RSA algo \")\n",
        "s=list(s)\n",
        "for i in range(len(s)):\n",
        "  s[i]=ord(s[i])-ord('a')+1\n",
        "num=int(\"\".join(map(str, s)))\n",
        "c = num**e\n",
        "c = c%n\n",
        "print(\"Encrypted message:{} and Signature:{} \".format(num,c))\n",
        "#decryption\n",
        "c1 = (c**d) % n\n",
        "print(\"Decrypted message:{} and Signature:{} \".format(num,c1))"
      ],
      "execution_count": null,
      "outputs": [
        {
          "output_type": "stream",
          "name": "stdout",
          "text": [
            "3127 3016\n",
            "Enter the string to be encrypted using RSA algo abab\n",
            "Encrypted message:1212 and Signature:2678 \n",
            "Decrypted message:1212 and Signature:1212 \n"
          ]
        }
      ]
    },
    {
      "cell_type": "markdown",
      "metadata": {
        "id": "7-QUw1Li1rjp"
      },
      "source": [
        "Elgamo algo"
      ]
    },
    {
      "cell_type": "code",
      "metadata": {
        "colab": {
          "base_uri": "https://localhost:8080/"
        },
        "id": "REMhZk1BcNx5",
        "outputId": "c852cd1b-8d9b-4fc6-da5e-f67d7f51ac8b"
      },
      "source": [
        "import random\n",
        "q=11\n",
        "g=random.randint(1,q)\n",
        "def gcd(a, b):\n",
        "\tif a < b:\n",
        "\t\treturn gcd(b, a)\n",
        "\telif a % b == 0:\n",
        "\t\treturn b;\n",
        "\telse:\n",
        "\t\treturn gcd(b, a % b)\n",
        "def GenA(q):\n",
        "  while(True):\n",
        "    r=random.randint(1,q)\n",
        "    if gcd(r,q)==1:\n",
        "      return r\n",
        "a=GenA(q)\n",
        "h=(g**a)%q\n",
        "print(q,g,a,h)\n",
        "print(\"public Keys:\",q,g,h)"
      ],
      "execution_count": null,
      "outputs": [
        {
          "output_type": "stream",
          "name": "stdout",
          "text": [
            "11 4 9 3\n",
            "public Keys: 11 4 3\n"
          ]
        }
      ]
    },
    {
      "cell_type": "code",
      "metadata": {
        "colab": {
          "base_uri": "https://localhost:8080/"
        },
        "id": "p61CwOfCeSAX",
        "outputId": "ac7b72d8-aa4f-4f54-eba3-0b3fe5654bb5"
      },
      "source": [
        "#Encryption\n",
        "K=GenA(q)\n",
        "p=(g**K)%q\n",
        "s=(h**K)%q\n",
        "M=17345\n",
        "C=M*s\n",
        "print(\"Plain text: \",M)\n",
        "print(\"p:\",p)\n",
        "print(\"signature:\",C)\n"
      ],
      "execution_count": null,
      "outputs": [
        {
          "output_type": "stream",
          "name": "stdout",
          "text": [
            "Plain text:  17345\n",
            "p: 4\n",
            "signature: 52035\n"
          ]
        }
      ]
    },
    {
      "cell_type": "code",
      "metadata": {
        "colab": {
          "base_uri": "https://localhost:8080/"
        },
        "id": "o2MNyDrCfAfv",
        "outputId": "22218495-e937-4203-854b-078b5b95cf0a"
      },
      "source": [
        "#Decryption\n",
        "s1=(p**a)%q\n",
        "Verifed=C//s1\n",
        "if (M==Verifed):\n",
        "  print(\"Verifed\",)\n",
        "else:\n",
        "  print(\"Not Verifed\")"
      ],
      "execution_count": null,
      "outputs": [
        {
          "output_type": "stream",
          "name": "stdout",
          "text": [
            "Verifed\n"
          ]
        }
      ]
    },
    {
      "cell_type": "markdown",
      "metadata": {
        "id": "-wJ_twSrMAjW"
      },
      "source": [
        "### **SHA-1**"
      ]
    },
    {
      "cell_type": "code",
      "metadata": {
        "id": "65gH9qa1L_2I"
      },
      "source": [
        "def stringToBinary(M):\n",
        "  M =list( ''.join(format(ord(i), '08b') for i in M))\n",
        "  return M\n",
        "\n",
        "\n",
        "def padding(M):\n",
        "  if(len(M)<512):\n",
        "\n",
        "    length=list(bin(len(M)))[2:]\n",
        "    M.append('1')\n",
        "    for i in range(len(M),512-len(length)):\n",
        "      M.append('0')\n",
        "    M.extend(length)\n",
        "  return M\n",
        "def leftshift(a,b):\n",
        "  return ((a << b) | (a >> (32 - b))) & 0xffffffff\n",
        "\n",
        "def f1(B,C,D):\n",
        "  t=D^(B&(C^D))\n",
        "  return t\n",
        "def f2(B,C,D):\n",
        "  t=B^C^D\n",
        "  return t\n",
        "def f3(B,C,D):\n",
        "  t=(B&C)|(B&D)|(C&D)\n",
        "  return t\n",
        "def f4(B,C,D):\n",
        "  t=B^C^D\n",
        "  return t\n"
      ],
      "execution_count": null,
      "outputs": []
    },
    {
      "cell_type": "code",
      "metadata": {
        "id": "IqOZJb1fRPtt"
      },
      "source": [
        "\n",
        "def helper(M,F):\n",
        "  M=padding(M)\n",
        "  # print(M,len(M))\n",
        "  W=[]\n",
        "  for i in range(16):\n",
        "    a=M[32*i:32*(i+1)]\n",
        "    a=int(''.join(map(str,a)),2)\n",
        "    W.append(a)\n",
        "  # print(W)\n",
        "  for i in range(16,80):\n",
        "    a=W[i-16]^W[i-14]\n",
        "    a=a^W[i-8]\n",
        "    a=a^W[i-3]\n",
        "    a=leftshift(a,1)\n",
        "    W.append(a)\n",
        "  # print(W)\n",
        "  A = F[0]\n",
        "  B = F[1]\n",
        "  C = F[2]\n",
        "  D = F[3]\n",
        "  E = F[4]\n",
        "\n",
        "  A1 = A\n",
        "  B1 = B\n",
        "  C1 = C\n",
        "  D1 = D\n",
        "  E1 = E\n",
        "\n",
        "  k1=0x5A827999\n",
        "  k2=0x6ED9EBA1\n",
        "  k3=0x8F1BBCDC\n",
        "  k4=0xCA62C1D6\n",
        "\n",
        "  for i in range(80):\n",
        "    if i<20:\n",
        "      f=f1(B,C,D)\n",
        "      k=k1\n",
        "    elif 20<=i<40:\n",
        "      f=f2(B,C,D)\n",
        "      k=k2\n",
        "    elif 40<=i<60:\n",
        "      f=f3(B,C,D)\n",
        "      k=k3\n",
        "    elif 60<=i<80:\n",
        "      f=f4(B,C,D)\n",
        "      k=k4\n",
        "    A,B,C,D,E=(leftshift(A,5)+f+E+W[i]+k)&0xffffffff,A,leftshift(B,30),C,D\n",
        "    \n",
        "\n",
        "  A=(A+A1)&0xffffffff\n",
        "  B=(B+B1)&0xffffffff\n",
        "  C=(C+C1)&0xffffffff\n",
        "  D=(D+D1)&0xffffffff\n",
        "  E=(E+E1)&0xffffffff\n",
        "  return [A,B,C,D,E]\n",
        "\n",
        "  \n",
        "def sha1(M):\n",
        "  M=stringToBinary(M)\n",
        "  A = 0x67452301\n",
        "  B = 0xEFCDAB89\n",
        "  C = 0x98BADCFE\n",
        "  D = 0x10325476\n",
        "  E = 0xC3D2E1F0\n",
        "  F=[A,B,C,D,E]\n",
        "  for i in range(0,len(M),256):\n",
        "    a=min(i+256,len(M))\n",
        "    F=helper(M[i:a],F)\n",
        "  return'%08x%08x%08x%08x%08x'%(F[0],F[1],F[2],F[3],F[4])"
      ],
      "execution_count": null,
      "outputs": []
    },
    {
      "cell_type": "code",
      "metadata": {
        "colab": {
          "base_uri": "https://localhost:8080/"
        },
        "id": "z4w1UWs0hMqr",
        "outputId": "b9627efd-c88d-4f6a-912a-a7a973e0d8fa"
      },
      "source": [
        "print(sha1('welcome'))"
      ],
      "execution_count": null,
      "outputs": [
        {
          "output_type": "stream",
          "name": "stdout",
          "text": [
            "c0b137fe2d792459f26ff763cce44574a5b5ab03\n"
          ]
        }
      ]
    },
    {
      "cell_type": "markdown",
      "metadata": {
        "id": "rBZUYBUxW2Zx"
      },
      "source": [
        "### **HMAC using SHA-1**"
      ]
    },
    {
      "cell_type": "code",
      "metadata": {
        "colab": {
          "base_uri": "https://localhost:8080/"
        },
        "id": "fz2yMGwaV6ct",
        "outputId": "4d7a1853-ab5e-4266-8367-b65fa0e77985"
      },
      "source": [
        "q=['0','0','1','1','0','1','1','0']\n",
        "o=['0','1','0','1','1','1','0','0']\n",
        "ipad=[]\n",
        "opad=[]\n",
        "for i in range(64):\n",
        "  ipad.extend(q)\n",
        "  opad.extend(o)\n",
        "def xor(a,b):\n",
        "  for i in range(len(a)):\n",
        "    c=[]\n",
        "    if a[i]==b[i]:\n",
        "      c.append('0')\n",
        "    else:\n",
        "      c.append('1')\n",
        "    return c\n",
        "\n",
        "Msg=input()\n",
        "Key=input()\n",
        "#padding Key\n",
        "Key=stringToBinary(Key)\n",
        "for i in range(len(Key),512):\n",
        "  Key.append('0')\n",
        "#print(len(Key))\n",
        "Si=xor(Key,ipad)\n",
        "So=xor(Key,opad)\n",
        "\n",
        "Msg=stringToBinary(Msg)\n",
        "A = 0x67452301\n",
        "B = 0xEFCDAB89\n",
        "C = 0x98BADCFE\n",
        "D = 0x10325476\n",
        "E = 0xC3D2E1F0\n",
        "F=[A,B,C,D,E]\n",
        "F1=helper(Si,F)\n",
        "F2=helper(Msg,F1)\n",
        "print(F2)\n",
        "\n",
        "def intTobin(a):\n",
        "  c=[]\n",
        "  for j in a:\n",
        "    c.extend([i for i in list('{0:8b}'.format(j))])\n",
        "  return c\n",
        "M2=intTobin(F2)\n",
        "F1=helper(So,F)\n",
        "F2=helper(M2,F1)\n",
        "print('%08x%08x%08x%08x%08x'%(F2[0],F2[1],F2[2],F2[3],F2[4]))"
      ],
      "execution_count": null,
      "outputs": [
        {
          "output_type": "stream",
          "name": "stdout",
          "text": [
            "welcome\n",
            "hello\n",
            "[1809225452, 2609376308, 1782445950, 2711565026, 3060771706]\n",
            "b688d62b0fe5e8d226473ef23b1651c9cfbf4357\n"
          ]
        }
      ]
    },
    {
      "cell_type": "code",
      "metadata": {
        "colab": {
          "base_uri": "https://localhost:8080/"
        },
        "id": "SANenVpEcYSx",
        "outputId": "eef8aa58-6994-44a7-dbbc-e4910989ab09"
      },
      "source": [
        "\n"
      ],
      "execution_count": null,
      "outputs": [
        {
          "output_type": "stream",
          "name": "stdout",
          "text": [
            "b688d62b0fe5e8d226473ef23b1651c9cfbf4357\n"
          ]
        }
      ]
    },
    {
      "cell_type": "code",
      "metadata": {
        "id": "trBbPGY4d28D"
      },
      "source": [
        ""
      ],
      "execution_count": null,
      "outputs": []
    },
    {
      "cell_type": "markdown",
      "metadata": {
        "id": "CwuDn2-5eBdG"
      },
      "source": [
        "### **MIM in HMAC**"
      ]
    },
    {
      "cell_type": "code",
      "metadata": {
        "colab": {
          "base_uri": "https://localhost:8080/"
        },
        "id": "iBFAkAQkeCqI",
        "outputId": "2f959d6d-b7d7-4164-ef55-e20cea0fc239"
      },
      "source": [
        "#alice\n",
        "M=\"welcome\"\n",
        "Key=\"hello\"\n",
        "Key=stringToBinary(Key)\n",
        "for i in range(len(Key),512):\n",
        "  Key.append('0')\n",
        "Msg=stringToBinary(M)\n",
        "A = 0x67452301\n",
        "B = 0xEFCDAB89\n",
        "C = 0x98BADCFE\n",
        "D = 0x10325476\n",
        "E = 0xC3D2E1F0\n",
        "F=[A,B,C,D,E]\n",
        "F1=helper(Key,F)\n",
        "F2=helper(Msg,F1)\n",
        "print(M,'%08x%08x%08x%08x%08x'%(F2[0],F2[1],F2[2],F2[3],F2[4]))\n",
        "\n",
        "r='abcd'\n",
        "random=stringToBinary(r)\n",
        "F1=helper(random,F2)\n",
        "print(M+r,'%08x%08x%08x%08x%08x'%(F1[0],F1[1],F1[2],F1[3],F1[4]))\n"
      ],
      "execution_count": null,
      "outputs": [
        {
          "output_type": "stream",
          "name": "stdout",
          "text": [
            "welcome b470c727a91203c7b241c25d70f882f2b099763f\n",
            "welcomeabcd c8e6cfe829b788d3f58261b3461c955be0aeeab6\n"
          ]
        }
      ]
    }
  ]
}